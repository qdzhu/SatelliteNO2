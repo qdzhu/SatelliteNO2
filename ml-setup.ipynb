{
 "cells": [
  {
   "cell_type": "code",
   "execution_count": 2,
   "metadata": {},
   "outputs": [],
   "source": [
    "import dask\n",
    "import xgboost as xgb\n",
    "from Train_test_days_split import *"
   ]
  },
  {
   "cell_type": "code",
   "execution_count": 3,
   "metadata": {},
   "outputs": [
    {
     "data": {
      "text/plain": [
       "<dask.config.set at 0x2aebbe625b38>"
      ]
     },
     "execution_count": 3,
     "metadata": {},
     "output_type": "execute_result"
    }
   ],
   "source": [
    "dask.config.set(temporary_directory='/global/home/users/qindan_zhu/myscratch/qindan_zhu/SatelliteNO2')"
   ]
  },
  {
   "cell_type": "code",
   "execution_count": 4,
   "metadata": {},
   "outputs": [],
   "source": [
    "from dask.distributed import Client\n",
    "from dask_jobqueue import SLURMCluster\n",
    "def get_slurm_dask_client(n_workers, n_cores):\n",
    "    cluster = SLURMCluster(cores=n_cores,\n",
    "                           memory='32GB',\n",
    "                           project=\"co_aiolos\",\n",
    "                           walltime=\"02:00:00\",\n",
    "                           queue=\"savio2_gpu\",\n",
    "                           job_extra=['--gres=gpu:1','--cpus-per-task=2'])\n",
    "\n",
    "    cluster.scale(n_workers)\n",
    "    client = Client(cluster)\n",
    "    return client\n",
    "def get_slurm_dask_client_bigmem(n_nodes):\n",
    "    cluster = SLURMCluster(cores=24,\n",
    "                           memory='128GB',\n",
    "                           project=\"co_aiolos\",\n",
    "                           walltime=\"02:00:00\",\n",
    "                           queue=\"savio2_bigmem\",\n",
    "                           job_extra=['--qos=\"savio_lowprio\"'])\n",
    "\n",
    "    cluster.scale(n_nodes*6)\n",
    "    client = Client(cluster)\n",
    "    return client\n",
    "def get_slurm_dask_client_savio2(n_nodes):\n",
    "    cluster = SLURMCluster(cores=12,\n",
    "                           memory='64GB',\n",
    "                           project=\"co_aiolos\",\n",
    "                           walltime=\"12:00:00\",\n",
    "                           queue=\"savio\",\n",
    "                           local_directory = '/global/home/users/qindan_zhu/myscratch/qindan_zhu/SatelliteNO2',\n",
    "                           job_extra=['--qos=\"aiolos_savio_normal\"'])\n",
    "\n",
    "    cluster.scale(n_nodes*6)\n",
    "    client = Client(cluster)\n",
    "    return client\n",
    "def get_slurm_dask_client_savio3(n_nodes):\n",
    "    cluster = SLURMCluster(cores=32,\n",
    "                           memory='96GB',\n",
    "                           project=\"co_aiolos\",\n",
    "                           walltime=\"72:00:00\",\n",
    "                           queue=\"savio3\",\n",
    "                           job_extra=['--qos=\"aiolos_savio3_normal\"'])\n",
    "\n",
    "    cluster.scale(n_nodes*16)\n",
    "    client = Client(cluster)\n",
    "    return client"
   ]
  },
  {
   "cell_type": "code",
   "execution_count": 5,
   "metadata": {},
   "outputs": [],
   "source": [
    "client = get_slurm_dask_client_savio2(4)"
   ]
  },
  {
   "cell_type": "code",
   "execution_count": 31,
   "metadata": {},
   "outputs": [
    {
     "data": {
      "text/html": [
       "<table style=\"border: 2px solid white;\">\n",
       "<tr>\n",
       "<td style=\"vertical-align: top; border: 0px solid white\">\n",
       "<h3 style=\"text-align: left;\">Client</h3>\n",
       "<ul style=\"text-align: left; list-style: none; margin: 0; padding: 0;\">\n",
       "  <li><b>Scheduler: </b>tcp://10.0.0.24:42696</li>\n",
       "  <li><b>Dashboard: </b><a href='http://10.0.0.24:8787/status' target='_blank'>http://10.0.0.24:8787/status</a></li>\n",
       "</ul>\n",
       "</td>\n",
       "<td style=\"vertical-align: top; border: 0px solid white\">\n",
       "<h3 style=\"text-align: left;\">Cluster</h3>\n",
       "<ul style=\"text-align: left; list-style:none; margin: 0; padding: 0;\">\n",
       "  <li><b>Workers: </b>24</li>\n",
       "  <li><b>Cores: </b>72</li>\n",
       "  <li><b>Memory: </b>384.00 GB</li>\n",
       "</ul>\n",
       "</td>\n",
       "</tr>\n",
       "</table>"
      ],
      "text/plain": [
       "<Client: 'tcp://10.0.0.24:42696' processes=24 threads=72, memory=384.00 GB>"
      ]
     },
     "execution_count": 31,
     "metadata": {},
     "output_type": "execute_result"
    }
   ],
   "source": [
    "client"
   ]
  },
  {
   "cell_type": "code",
   "execution_count": 9,
   "metadata": {},
   "outputs": [
    {
     "data": {
      "text/plain": [
       "['tcp://10.0.1.155:35690',\n",
       " 'tcp://10.0.1.155:41328',\n",
       " 'tcp://10.0.1.155:44294',\n",
       " 'tcp://10.0.1.155:46827',\n",
       " 'tcp://10.0.1.159:36257',\n",
       " 'tcp://10.0.1.159:38891',\n",
       " 'tcp://10.0.1.159:41384',\n",
       " 'tcp://10.0.1.159:42149',\n",
       " 'tcp://10.0.1.161:36827',\n",
       " 'tcp://10.0.1.161:41607',\n",
       " 'tcp://10.0.1.161:45580',\n",
       " 'tcp://10.0.1.161:46099',\n",
       " 'tcp://10.0.1.162:39032',\n",
       " 'tcp://10.0.1.162:44530',\n",
       " 'tcp://10.0.1.162:45290',\n",
       " 'tcp://10.0.1.162:45840',\n",
       " 'tcp://10.0.1.164:32905',\n",
       " 'tcp://10.0.1.164:36687',\n",
       " 'tcp://10.0.1.164:37418',\n",
       " 'tcp://10.0.1.164:40711',\n",
       " 'tcp://10.0.1.25:32894',\n",
       " 'tcp://10.0.1.25:39551',\n",
       " 'tcp://10.0.1.25:42529',\n",
       " 'tcp://10.0.1.25:43498']"
      ]
     },
     "execution_count": 9,
     "metadata": {},
     "output_type": "execute_result"
    }
   ],
   "source": [
    "scheduler_info = client.scheduler_info()\n",
    "workers = client.get_worker_logs()\n",
    "list_of_workers = list(workers.keys())\n",
    "list_of_workers"
   ]
  },
  {
   "cell_type": "code",
   "execution_count": 16,
   "metadata": {},
   "outputs": [
    {
     "ename": "SyntaxError",
     "evalue": "invalid syntax (<ipython-input-16-31320adfec79>, line 4)",
     "output_type": "error",
     "traceback": [
      "\u001b[0;36m  File \u001b[0;32m\"<ipython-input-16-31320adfec79>\"\u001b[0;36m, line \u001b[0;32m4\u001b[0m\n\u001b[0;31m    1. false dependence\u001b[0m\n\u001b[0m           ^\u001b[0m\n\u001b[0;31mSyntaxError\u001b[0m\u001b[0;31m:\u001b[0m invalid syntax\n"
     ]
    }
   ],
   "source": [
    "#1.scheduler: tasks --> task graph \n",
    "#2.worker nodes\n",
    "\n",
    "1. false dependence\n",
    "b = a[i]+c\n",
    "d = a[i+1]+c\n",
    "compiler: b and d has to be processed in the same core with a saved\n",
    "total_datasets = dict()\n",
    "total_datasets['no2'] = no2 from ncdf\n",
    "total_datasets['pres'] = pres from ncdf\n",
    "each worker need memory to save total_datasets (full matrix)\n",
    "\n",
    "\n",
    "2. nc.Datasets\n",
    "data = read all data from ncdf file (~5G)\n",
    "data['no2'] --> numpy array --> dask array (slow!!!)\n",
    "package: xarray read in data from a ncdf file to a dask array (fast)\n",
    "\n",
    "3. Solution\n",
    "for each feature, call xarray, save the target feature data, and then do processing.##\n",
    "\n"
   ]
  },
  {
   "cell_type": "code",
   "execution_count": 10,
   "metadata": {},
   "outputs": [],
   "source": [
    "import xarray as xr\n",
    "import time\n",
    "orig_filenames = sorted(glob(os.path.join(orig_file_path, 'met_conus*')))\n",
    "orig_filenames = orig_filenames[0:5]\n",
    "train_filenames, test_filenames = train_test_filename(orig_filenames)\n",
    "filename = train_filenames[0]"
   ]
  },
  {
   "cell_type": "code",
   "execution_count": 58,
   "metadata": {},
   "outputs": [],
   "source": [
    "nvel = 29\n",
    "ngrid = 100250\n",
    "ntime = 16\n",
    "keep_indx = np.load('target_cells_index.npy')\n",
    "reader = csv.reader(open(\"surrouding_cells.csv\", \"r\"))\n",
    "surr_arr = []\n",
    "for row in reader:\n",
    "    this_arr = list(map(int, row[1].strip(']|[').split(',')))\n",
    "    surr_arr.append(this_arr)\n",
    "surr_arr = np.array(surr_arr)[keep_indx, :]\n",
    "def read_var_from_file_xr(filename, varname):\n",
    "    ds = xr.open_mfdataset(filename, parallel=True)\n",
    "    this_var = da.array(ds[varname][1:, keep_indx, :]).flatten()\n",
    "    del ds\n",
    "    return this_var\n",
    "def read_var_from_file_nc(filename, varname):\n",
    "    ds = nc.Dataset(filename)\n",
    "    this_var = da.array(ds[varname][1:, keep_indx, :]).flatten()\n",
    "    del ds\n",
    "    return this_var\n",
    "def read_2d_var_from_file_xr(filename, varname):\n",
    "    ds = xr.open_mfdataset(filename, parallel=True)\n",
    "    this_var = da.repeat(da.array(ds[varname][1:, keep_indx, :]),nvel,axis=2).flatten()\n",
    "    del ds\n",
    "    return this_var\n",
    "def read_wind_from_file_xr(filename):\n",
    "    ds = xr.open_mfdataset(filename, parallel=True)\n",
    "    stg_u = da.array(ds['U'])\n",
    "    stg_v = da.array(ds['V'])\n",
    "    stg_w = da.array(ds['W'][1:, keep_indx, :])\n",
    "    u_indx_left, u_indx_right, v_indx_bot, v_indx_up = find_indx_for_wind()\n",
    "    wind_u = (stg_u[1:, u_indx_left, :] + stg_u[1:, u_indx_right, :])/2\n",
    "    u = wind_u[:, keep_indx, :].flatten()\n",
    "    wind_v = (stg_v[1:, v_indx_up, :] + stg_v[1:, v_indx_bot, :])/2\n",
    "    v = wind_v[:, keep_indx, :].flatten()\n",
    "    w = (stg_w[:, :, 1:] + stg_w[:, :, :-1])/2\n",
    "    w = w.flatten()\n",
    "    return da.stack([u,v,w])\n",
    "def read_lightning_from_file_xr(filename):\n",
    "    ds = xr.open_mfdataset(filename, parallel=True)\n",
    "    cum_ic_flash = da.array(ds['IC_FLASHCOUNT'][:])\n",
    "    cum_cg_flash = da.array(ds['CG_FLASHCOUNT'][:])\n",
    "    ic_flash = da.repeat(cum_ic_flash[1:, :, :]-cum_ic_flash[:-1, :, :], nvel, axis=2)\n",
    "    cg_flash = da.repeat(cum_cg_flash[1:, :, :]-cum_cg_flash[:-1, :, :], nvel, axis=2)\n",
    "    e_lightning = ic_flash + cg_flash\n",
    "    this_var = e_lightning[:, keep_indx, :].flatten()\n",
    "    surrs = []\n",
    "    surrs.append(this_var)\n",
    "    for i in range(0, 24):\n",
    "        surr_indx = surr_arr[:, i]\n",
    "        surrs.append(e_lightning[:, surr_indx, :].flatten())\n",
    "    return da.stack(surrs)\n",
    "def read_anthro_emis_from_file_xr(filename):\n",
    "    ds = xr.open_mfdataset(filename, parallel=True)\n",
    "    e_no_lower = da.array(ds['E_NO'])[1:, :, :]\n",
    "    e_no_upper = da.zeros((ntime, e_no_lower.shape[1], nvel - e_no_lower.shape[2]))\n",
    "    e_no = da.concatenate([e_no_lower, e_no_upper], axis=2)\n",
    "    e_no_total = []\n",
    "    e_no_total.append(e_no[:, keep_indx, :].flatten())\n",
    "    for i in range(0, 24):\n",
    "        surr_indx = surr_arr[:, i]\n",
    "        e_no_total.append(e_no[:, surr_indx, :].flatten())\n",
    "    return da.stack(e_no_total)"
   ]
  },
  {
   "cell_type": "code",
   "execution_count": 65,
   "metadata": {},
   "outputs": [],
   "source": [
    "def make_xgbmodel(client, filename):\n",
    "    varnames = ['no2','pres','temp','CLDFRA']\n",
    "    futures = []\n",
    "    for varname in varnames:\n",
    "        future = client.submit(read_var_from_file_xr, filename, varname)\n",
    "        futures.append(future)\n",
    "        del future\n",
    "    dirt_feature = da.stack([future.result() for future in futures])\n",
    "    varnames_2d = ['COSZEN', 'PBLH', 'LAI', 'HGT', 'SWDOWN', 'GLW']\n",
    "    futures_2d = []\n",
    "    for varname in varnames_2d:\n",
    "        future_2d = client.submit(read_2d_var_from_file_xr, filename, varname)\n",
    "        futures_2d.append(future_2d)\n",
    "        del future_2d\n",
    "    dirt2d_feature = da.stack([future.result() for future in futures_2d])    \n",
    "    wind_feature = client.submit(read_wind_from_file_xr, filename)\n",
    "    anthroemis_future = client.submit(read_anthro_emis_from_file_xr, filename)\n",
    "    lightning_future = client.submit(read_lightning_from_file_xr, filename)\n",
    "    datasets = da.transpose(da.concatenate((dirt_feature, dirt2d_feature, wind_feature.result(), anthroemis_future.result(), lightning_future.result()),axis=0))\n",
    "    del dirt_feature\n",
    "    del dirt2d_feature\n",
    "    del futures\n",
    "    del futures_2d\n",
    "    del wind_feature\n",
    "    del anthroemis_future\n",
    "    del lightning_future\n",
    "    datasets_future = client.scatter(datasets)\n",
    "    return datasets_future"
   ]
  },
  {
   "cell_type": "code",
   "execution_count": 66,
   "metadata": {},
   "outputs": [
    {
     "name": "stdout",
     "output_type": "stream",
     "text": [
      "Reading training data /global/home/users/qindan_zhu/myscratch/jlgrant/ML-WRF/ML-WRF/met_conus_2005_004\n",
      "Reading training data /global/home/users/qindan_zhu/myscratch/jlgrant/ML-WRF/ML-WRF/met_conus_2005_003\n",
      "Reading training data /global/home/users/qindan_zhu/myscratch/jlgrant/ML-WRF/ML-WRF/met_conus_2005_001\n",
      "Reading training data /global/home/users/qindan_zhu/myscratch/jlgrant/ML-WRF/ML-WRF/met_conus_2005_002\n",
      "Reading training data /global/home/users/qindan_zhu/myscratch/jlgrant/ML-WRF/ML-WRF/met_conus_2005_005\n"
     ]
    }
   ],
   "source": [
    "create_total = True\n",
    "for train_filename in train_filenames:\n",
    "    print('Reading training data {}'.format(train_filename))\n",
    "    this_dataset = make_xgbmodel(client, train_filename)\n",
    "    if create_total:\n",
    "        total_datasets = this_dataset.result()\n",
    "        create_total = False\n",
    "    else:\n",
    "        total_datasets = da.concatenate((total_datasets, this_dataset.result()), axis=0)\n",
    "    del this_dataset"
   ]
  },
  {
   "cell_type": "code",
   "execution_count": 71,
   "metadata": {},
   "outputs": [],
   "source": [
    "X = total_datasets[:, 1:]\n",
    "y = total_datasets[:, 0]\n",
    "del total_datasets\n"
   ]
  },
  {
   "cell_type": "code",
   "execution_count": 72,
   "metadata": {},
   "outputs": [
    {
     "data": {
      "text/html": [
       "<table>\n",
       "<tr>\n",
       "<td>\n",
       "<table>\n",
       "  <thead>\n",
       "    <tr><td> </td><th> Array </th><th> Chunk </th></tr>\n",
       "  </thead>\n",
       "  <tbody>\n",
       "    <tr><th> Bytes </th><td> 115.36 GB </td> <td> 186.06 MB </td></tr>\n",
       "    <tr><th> Shape </th><td> (232580000, 62) </td> <td> (23258000, 1) </td></tr>\n",
       "    <tr><th> Count </th><td> 6860 Tasks </td><td> 620 Chunks </td></tr>\n",
       "    <tr><th> Type </th><td> float64 </td><td> numpy.ndarray </td></tr>\n",
       "  </tbody>\n",
       "</table>\n",
       "</td>\n",
       "<td>\n",
       "<svg width=\"75\" height=\"170\" style=\"stroke:rgb(0,0,0);stroke-width:1\" >\n",
       "\n",
       "  <!-- Horizontal lines -->\n",
       "  <line x1=\"0\" y1=\"0\" x2=\"25\" y2=\"0\" style=\"stroke-width:2\" />\n",
       "  <line x1=\"0\" y1=\"12\" x2=\"25\" y2=\"12\" />\n",
       "  <line x1=\"0\" y1=\"24\" x2=\"25\" y2=\"24\" />\n",
       "  <line x1=\"0\" y1=\"36\" x2=\"25\" y2=\"36\" />\n",
       "  <line x1=\"0\" y1=\"48\" x2=\"25\" y2=\"48\" />\n",
       "  <line x1=\"0\" y1=\"60\" x2=\"25\" y2=\"60\" />\n",
       "  <line x1=\"0\" y1=\"72\" x2=\"25\" y2=\"72\" />\n",
       "  <line x1=\"0\" y1=\"84\" x2=\"25\" y2=\"84\" />\n",
       "  <line x1=\"0\" y1=\"96\" x2=\"25\" y2=\"96\" />\n",
       "  <line x1=\"0\" y1=\"108\" x2=\"25\" y2=\"108\" />\n",
       "  <line x1=\"0\" y1=\"120\" x2=\"25\" y2=\"120\" style=\"stroke-width:2\" />\n",
       "\n",
       "  <!-- Vertical lines -->\n",
       "  <line x1=\"0\" y1=\"0\" x2=\"0\" y2=\"120\" style=\"stroke-width:2\" />\n",
       "  <line x1=\"1\" y1=\"0\" x2=\"1\" y2=\"120\" />\n",
       "  <line x1=\"2\" y1=\"0\" x2=\"2\" y2=\"120\" />\n",
       "  <line x1=\"3\" y1=\"0\" x2=\"3\" y2=\"120\" />\n",
       "  <line x1=\"5\" y1=\"0\" x2=\"5\" y2=\"120\" />\n",
       "  <line x1=\"6\" y1=\"0\" x2=\"6\" y2=\"120\" />\n",
       "  <line x1=\"7\" y1=\"0\" x2=\"7\" y2=\"120\" />\n",
       "  <line x1=\"9\" y1=\"0\" x2=\"9\" y2=\"120\" />\n",
       "  <line x1=\"10\" y1=\"0\" x2=\"10\" y2=\"120\" />\n",
       "  <line x1=\"11\" y1=\"0\" x2=\"11\" y2=\"120\" />\n",
       "  <line x1=\"13\" y1=\"0\" x2=\"13\" y2=\"120\" />\n",
       "  <line x1=\"14\" y1=\"0\" x2=\"14\" y2=\"120\" />\n",
       "  <line x1=\"15\" y1=\"0\" x2=\"15\" y2=\"120\" />\n",
       "  <line x1=\"17\" y1=\"0\" x2=\"17\" y2=\"120\" />\n",
       "  <line x1=\"18\" y1=\"0\" x2=\"18\" y2=\"120\" />\n",
       "  <line x1=\"19\" y1=\"0\" x2=\"19\" y2=\"120\" />\n",
       "  <line x1=\"21\" y1=\"0\" x2=\"21\" y2=\"120\" />\n",
       "  <line x1=\"22\" y1=\"0\" x2=\"22\" y2=\"120\" />\n",
       "  <line x1=\"23\" y1=\"0\" x2=\"23\" y2=\"120\" />\n",
       "  <line x1=\"25\" y1=\"0\" x2=\"25\" y2=\"120\" style=\"stroke-width:2\" />\n",
       "\n",
       "  <!-- Colored Rectangle -->\n",
       "  <polygon points=\"0.0,0.0 25.412616514582485,0.0 25.412616514582485,120.0 0.0,120.0\" style=\"fill:#8B4903A0;stroke-width:0\"/>\n",
       "\n",
       "  <!-- Text -->\n",
       "  <text x=\"12.706308\" y=\"140.000000\" font-size=\"1.0rem\" font-weight=\"100\" text-anchor=\"middle\" >62</text>\n",
       "  <text x=\"45.412617\" y=\"60.000000\" font-size=\"1.0rem\" font-weight=\"100\" text-anchor=\"middle\" transform=\"rotate(-90,45.412617,60.000000)\">232580000</text>\n",
       "</svg>\n",
       "</td>\n",
       "</tr>\n",
       "</table>"
      ],
      "text/plain": [
       "dask.array<getitem, shape=(232580000, 62), dtype=float64, chunksize=(23258000, 1), chunktype=numpy.ndarray>"
      ]
     },
     "execution_count": 72,
     "metadata": {},
     "output_type": "execute_result"
    }
   ],
   "source": [
    "X"
   ]
  },
  {
   "cell_type": "code",
   "execution_count": 75,
   "metadata": {},
   "outputs": [],
   "source": [
    "chunksize = int(X.shape[0]/len(client.nthreads())/3)\n",
    "X = X.rechunk(chunks=(chunksize,62))\n",
    "y = y.rechunk(chunks=(chunksize,1))"
   ]
  },
  {
   "cell_type": "code",
   "execution_count": 76,
   "metadata": {},
   "outputs": [
    {
     "data": {
      "text/plain": [
       "{'tcp://10.0.1.155:35690': ('Array-2e3ddb17b7c9058404489f57fd7e020f',\n",
       "  'Array-2f44f7aed969582cc02eb2bb20f74780',\n",
       "  'read_var_from_file_xr-305152514a6e2b2d7456ee94449dd160'),\n",
       " 'tcp://10.0.1.155:41328': ('Array-2e3ddb17b7c9058404489f57fd7e020f',\n",
       "  'Array-2f44f7aed969582cc02eb2bb20f74780',\n",
       "  'read_var_from_file_xr-6ca5fef9328c145aff311fb1a805ad9f'),\n",
       " 'tcp://10.0.1.155:44294': ('read_var_from_file_xr-6cf4207bc76400e127110e6238633457',\n",
       "  'Array-2f44f7aed969582cc02eb2bb20f74780'),\n",
       " 'tcp://10.0.1.155:46827': ('Array-2e3ddb17b7c9058404489f57fd7e020f',\n",
       "  'read_var_from_file_xr-3be1f7031a6ef9539f9a72b39595c8f1'),\n",
       " 'tcp://10.0.1.159:36257': ('Array-2f44f7aed969582cc02eb2bb20f74780',\n",
       "  'Array-2e3ddb17b7c9058404489f57fd7e020f'),\n",
       " 'tcp://10.0.1.159:38891': (),\n",
       " 'tcp://10.0.1.159:41384': ('Array-2f44f7aed969582cc02eb2bb20f74780',\n",
       "  'Array-2e3ddb17b7c9058404489f57fd7e020f'),\n",
       " 'tcp://10.0.1.159:42149': ('Array-2f44f7aed969582cc02eb2bb20f74780',),\n",
       " 'tcp://10.0.1.161:36827': ('Array-2e3ddb17b7c9058404489f57fd7e020f',),\n",
       " 'tcp://10.0.1.161:41607': (),\n",
       " 'tcp://10.0.1.161:45580': (),\n",
       " 'tcp://10.0.1.161:46099': (),\n",
       " 'tcp://10.0.1.162:39032': ('read_2d_var_from_file_xr-52037c297090d55166d4b4d3ff340c5d',),\n",
       " 'tcp://10.0.1.162:44530': ('read_2d_var_from_file_xr-389290e6155859d56cde7b9bed679528',),\n",
       " 'tcp://10.0.1.162:45290': ('read_2d_var_from_file_xr-d739e0da48a5f5c0f3604ad23ce1a778',),\n",
       " 'tcp://10.0.1.162:45840': ('read_2d_var_from_file_xr-31184f7fe30874b4758eb3e10a86189d',),\n",
       " 'tcp://10.0.1.164:32905': ('read_2d_var_from_file_xr-7c1de1629bd4af1bbabfd432e04eff03',),\n",
       " 'tcp://10.0.1.164:36687': ('read_2d_var_from_file_xr-c86b97049fe0a76669a830ad22ef8d73',),\n",
       " 'tcp://10.0.1.164:37418': (),\n",
       " 'tcp://10.0.1.164:40711': (),\n",
       " 'tcp://10.0.1.25:32894': (),\n",
       " 'tcp://10.0.1.25:39551': (),\n",
       " 'tcp://10.0.1.25:42529': (),\n",
       " 'tcp://10.0.1.25:43498': ()}"
      ]
     },
     "execution_count": 76,
     "metadata": {},
     "output_type": "execute_result"
    }
   ],
   "source": [
    "client.has_what()"
   ]
  },
  {
   "cell_type": "code",
   "execution_count": 68,
   "metadata": {},
   "outputs": [
    {
     "data": {
      "text/plain": [
       "{'tcp://10.0.1.155:35690': ('Array-2e3ddb17b7c9058404489f57fd7e020f',\n",
       "  'Array-2f44f7aed969582cc02eb2bb20f74780',\n",
       "  'read_var_from_file_xr-305152514a6e2b2d7456ee94449dd160'),\n",
       " 'tcp://10.0.1.155:41328': ('Array-2e3ddb17b7c9058404489f57fd7e020f',\n",
       "  'Array-2f44f7aed969582cc02eb2bb20f74780',\n",
       "  'read_var_from_file_xr-6ca5fef9328c145aff311fb1a805ad9f'),\n",
       " 'tcp://10.0.1.155:44294': ('read_var_from_file_xr-6cf4207bc76400e127110e6238633457',\n",
       "  'Array-2f44f7aed969582cc02eb2bb20f74780'),\n",
       " 'tcp://10.0.1.155:46827': ('Array-2e3ddb17b7c9058404489f57fd7e020f',\n",
       "  'read_var_from_file_xr-3be1f7031a6ef9539f9a72b39595c8f1'),\n",
       " 'tcp://10.0.1.159:36257': ('Array-2f44f7aed969582cc02eb2bb20f74780',\n",
       "  'Array-2e3ddb17b7c9058404489f57fd7e020f'),\n",
       " 'tcp://10.0.1.159:38891': (),\n",
       " 'tcp://10.0.1.159:41384': ('Array-2f44f7aed969582cc02eb2bb20f74780',\n",
       "  'Array-2e3ddb17b7c9058404489f57fd7e020f'),\n",
       " 'tcp://10.0.1.159:42149': ('Array-2f44f7aed969582cc02eb2bb20f74780',),\n",
       " 'tcp://10.0.1.161:36827': ('Array-2e3ddb17b7c9058404489f57fd7e020f',),\n",
       " 'tcp://10.0.1.161:41607': (),\n",
       " 'tcp://10.0.1.161:45580': (),\n",
       " 'tcp://10.0.1.161:46099': (),\n",
       " 'tcp://10.0.1.162:39032': ('read_2d_var_from_file_xr-52037c297090d55166d4b4d3ff340c5d',),\n",
       " 'tcp://10.0.1.162:44530': ('read_2d_var_from_file_xr-389290e6155859d56cde7b9bed679528',),\n",
       " 'tcp://10.0.1.162:45290': ('read_2d_var_from_file_xr-d739e0da48a5f5c0f3604ad23ce1a778',),\n",
       " 'tcp://10.0.1.162:45840': ('read_2d_var_from_file_xr-31184f7fe30874b4758eb3e10a86189d',),\n",
       " 'tcp://10.0.1.164:32905': ('read_2d_var_from_file_xr-7c1de1629bd4af1bbabfd432e04eff03',),\n",
       " 'tcp://10.0.1.164:36687': ('read_2d_var_from_file_xr-c86b97049fe0a76669a830ad22ef8d73',),\n",
       " 'tcp://10.0.1.164:37418': (),\n",
       " 'tcp://10.0.1.164:40711': (),\n",
       " 'tcp://10.0.1.25:32894': (),\n",
       " 'tcp://10.0.1.25:39551': (),\n",
       " 'tcp://10.0.1.25:42529': (),\n",
       " 'tcp://10.0.1.25:43498': ()}"
      ]
     },
     "execution_count": 68,
     "metadata": {},
     "output_type": "execute_result"
    }
   ],
   "source": [
    "client.has_what()"
   ]
  },
  {
   "cell_type": "code",
   "execution_count": 55,
   "metadata": {},
   "outputs": [
    {
     "data": {
      "text/html": [
       "<table>\n",
       "<tr>\n",
       "<td>\n",
       "<table>\n",
       "  <thead>\n",
       "    <tr><td> </td><th> Array </th><th> Chunk </th></tr>\n",
       "  </thead>\n",
       "  <tbody>\n",
       "    <tr><th> Bytes </th><td> 115.36 GB </td> <td> 1.60 GB </td></tr>\n",
       "    <tr><th> Shape </th><td> (232580000, 62) </td> <td> (3230277, 62) </td></tr>\n",
       "    <tr><th> Count </th><td> 9162 Tasks </td><td> 73 Chunks </td></tr>\n",
       "    <tr><th> Type </th><td> float64 </td><td> numpy.ndarray </td></tr>\n",
       "  </tbody>\n",
       "</table>\n",
       "</td>\n",
       "<td>\n",
       "<svg width=\"75\" height=\"170\" style=\"stroke:rgb(0,0,0);stroke-width:1\" >\n",
       "\n",
       "  <!-- Horizontal lines -->\n",
       "  <line x1=\"0\" y1=\"0\" x2=\"25\" y2=\"0\" style=\"stroke-width:2\" />\n",
       "  <line x1=\"0\" y1=\"4\" x2=\"25\" y2=\"4\" />\n",
       "  <line x1=\"0\" y1=\"11\" x2=\"25\" y2=\"11\" />\n",
       "  <line x1=\"0\" y1=\"18\" x2=\"25\" y2=\"18\" />\n",
       "  <line x1=\"0\" y1=\"24\" x2=\"25\" y2=\"24\" />\n",
       "  <line x1=\"0\" y1=\"31\" x2=\"25\" y2=\"31\" />\n",
       "  <line x1=\"0\" y1=\"38\" x2=\"25\" y2=\"38\" />\n",
       "  <line x1=\"0\" y1=\"43\" x2=\"25\" y2=\"43\" />\n",
       "  <line x1=\"0\" y1=\"49\" x2=\"25\" y2=\"49\" />\n",
       "  <line x1=\"0\" y1=\"56\" x2=\"25\" y2=\"56\" />\n",
       "  <line x1=\"0\" y1=\"63\" x2=\"25\" y2=\"63\" />\n",
       "  <line x1=\"0\" y1=\"69\" x2=\"25\" y2=\"69\" />\n",
       "  <line x1=\"0\" y1=\"76\" x2=\"25\" y2=\"76\" />\n",
       "  <line x1=\"0\" y1=\"81\" x2=\"25\" y2=\"81\" />\n",
       "  <line x1=\"0\" y1=\"88\" x2=\"25\" y2=\"88\" />\n",
       "  <line x1=\"0\" y1=\"94\" x2=\"25\" y2=\"94\" />\n",
       "  <line x1=\"0\" y1=\"101\" x2=\"25\" y2=\"101\" />\n",
       "  <line x1=\"0\" y1=\"108\" x2=\"25\" y2=\"108\" />\n",
       "  <line x1=\"0\" y1=\"114\" x2=\"25\" y2=\"114\" />\n",
       "  <line x1=\"0\" y1=\"120\" x2=\"25\" y2=\"120\" style=\"stroke-width:2\" />\n",
       "\n",
       "  <!-- Vertical lines -->\n",
       "  <line x1=\"0\" y1=\"0\" x2=\"0\" y2=\"120\" style=\"stroke-width:2\" />\n",
       "  <line x1=\"25\" y1=\"0\" x2=\"25\" y2=\"120\" style=\"stroke-width:2\" />\n",
       "\n",
       "  <!-- Colored Rectangle -->\n",
       "  <polygon points=\"0.0,0.0 25.412616514582485,0.0 25.412616514582485,120.0 0.0,120.0\" style=\"fill:#8B4903A0;stroke-width:0\"/>\n",
       "\n",
       "  <!-- Text -->\n",
       "  <text x=\"12.706308\" y=\"140.000000\" font-size=\"1.0rem\" font-weight=\"100\" text-anchor=\"middle\" >62</text>\n",
       "  <text x=\"45.412617\" y=\"60.000000\" font-size=\"1.0rem\" font-weight=\"100\" text-anchor=\"middle\" transform=\"rotate(-90,45.412617,60.000000)\">232580000</text>\n",
       "</svg>\n",
       "</td>\n",
       "</tr>\n",
       "</table>"
      ],
      "text/plain": [
       "dask.array<rechunk-merge, shape=(232580000, 62), dtype=float64, chunksize=(3230277, 62), chunktype=numpy.ndarray>"
      ]
     },
     "execution_count": 55,
     "metadata": {},
     "output_type": "execute_result"
    }
   ],
   "source": [
    "X"
   ]
  },
  {
   "cell_type": "code",
   "execution_count": 77,
   "metadata": {},
   "outputs": [
    {
     "data": {
      "text/plain": [
       "{'read_var_from_file_xr-305152514a6e2b2d7456ee94449dd160': ('tcp://10.0.1.155:35690',),\n",
       " 'read_var_from_file_xr-6ca5fef9328c145aff311fb1a805ad9f': ('tcp://10.0.1.155:41328',),\n",
       " 'read_var_from_file_xr-6cf4207bc76400e127110e6238633457': ('tcp://10.0.1.155:44294',),\n",
       " 'read_var_from_file_xr-3be1f7031a6ef9539f9a72b39595c8f1': ('tcp://10.0.1.155:46827',),\n",
       " 'read_2d_var_from_file_xr-52037c297090d55166d4b4d3ff340c5d': ('tcp://10.0.1.162:39032',),\n",
       " 'read_2d_var_from_file_xr-389290e6155859d56cde7b9bed679528': ('tcp://10.0.1.162:44530',),\n",
       " 'read_2d_var_from_file_xr-d739e0da48a5f5c0f3604ad23ce1a778': ('tcp://10.0.1.162:45290',),\n",
       " 'read_2d_var_from_file_xr-31184f7fe30874b4758eb3e10a86189d': ('tcp://10.0.1.162:45840',),\n",
       " 'read_2d_var_from_file_xr-7c1de1629bd4af1bbabfd432e04eff03': ('tcp://10.0.1.164:32905',),\n",
       " 'read_2d_var_from_file_xr-c86b97049fe0a76669a830ad22ef8d73': ('tcp://10.0.1.164:36687',),\n",
       " 'Array-2f44f7aed969582cc02eb2bb20f74780': ('tcp://10.0.1.155:41328',\n",
       "  'tcp://10.0.1.159:41384',\n",
       "  'tcp://10.0.1.159:42149',\n",
       "  'tcp://10.0.1.159:36257',\n",
       "  'tcp://10.0.1.155:35690',\n",
       "  'tcp://10.0.1.155:44294'),\n",
       " 'Array-2e3ddb17b7c9058404489f57fd7e020f': ('tcp://10.0.1.155:41328',\n",
       "  'tcp://10.0.1.159:41384',\n",
       "  'tcp://10.0.1.159:36257',\n",
       "  'tcp://10.0.1.155:35690',\n",
       "  'tcp://10.0.1.161:36827',\n",
       "  'tcp://10.0.1.155:46827')}"
      ]
     },
     "execution_count": 77,
     "metadata": {},
     "output_type": "execute_result"
    }
   ],
   "source": [
    "client.who_has()"
   ]
  },
  {
   "cell_type": "code",
   "execution_count": 40,
   "metadata": {},
   "outputs": [
    {
     "ename": "NameError",
     "evalue": "name 'futures_2d' is not defined",
     "output_type": "error",
     "traceback": [
      "\u001b[0;31m---------------------------------------------------------------------------\u001b[0m",
      "\u001b[0;31mNameError\u001b[0m                                 Traceback (most recent call last)",
      "\u001b[0;32m<ipython-input-40-e20ae5672cef>\u001b[0m in \u001b[0;36m<module>\u001b[0;34m\u001b[0m\n\u001b[0;32m----> 1\u001b[0;31m \u001b[0mfutures_2d\u001b[0m\u001b[0;34m\u001b[0m\u001b[0;34m\u001b[0m\u001b[0m\n\u001b[0m",
      "\u001b[0;31mNameError\u001b[0m: name 'futures_2d' is not defined"
     ]
    }
   ],
   "source": [
    "futures_2d"
   ]
  },
  {
   "cell_type": "code",
   "execution_count": 17,
   "metadata": {},
   "outputs": [
    {
     "data": {
      "text/html": [
       "<table>\n",
       "<tr>\n",
       "<td>\n",
       "<table>\n",
       "  <thead>\n",
       "    <tr><td> </td><th> Array </th><th> Chunk </th></tr>\n",
       "  </thead>\n",
       "  <tbody>\n",
       "    <tr><th> Bytes </th><td> 23.44 GB </td> <td> 186.06 MB </td></tr>\n",
       "    <tr><th> Shape </th><td> (46516000, 63) </td> <td> (23258000, 1) </td></tr>\n",
       "    <tr><th> Count </th><td> 896 Tasks </td><td> 126 Chunks </td></tr>\n",
       "    <tr><th> Type </th><td> float64 </td><td> numpy.ndarray </td></tr>\n",
       "  </tbody>\n",
       "</table>\n",
       "</td>\n",
       "<td>\n",
       "<svg width=\"75\" height=\"170\" style=\"stroke:rgb(0,0,0);stroke-width:1\" >\n",
       "\n",
       "  <!-- Horizontal lines -->\n",
       "  <line x1=\"0\" y1=\"0\" x2=\"25\" y2=\"0\" style=\"stroke-width:2\" />\n",
       "  <line x1=\"0\" y1=\"60\" x2=\"25\" y2=\"60\" />\n",
       "  <line x1=\"0\" y1=\"120\" x2=\"25\" y2=\"120\" style=\"stroke-width:2\" />\n",
       "\n",
       "  <!-- Vertical lines -->\n",
       "  <line x1=\"0\" y1=\"0\" x2=\"0\" y2=\"120\" style=\"stroke-width:2\" />\n",
       "  <line x1=\"1\" y1=\"0\" x2=\"1\" y2=\"120\" />\n",
       "  <line x1=\"2\" y1=\"0\" x2=\"2\" y2=\"120\" />\n",
       "  <line x1=\"3\" y1=\"0\" x2=\"3\" y2=\"120\" />\n",
       "  <line x1=\"5\" y1=\"0\" x2=\"5\" y2=\"120\" />\n",
       "  <line x1=\"6\" y1=\"0\" x2=\"6\" y2=\"120\" />\n",
       "  <line x1=\"7\" y1=\"0\" x2=\"7\" y2=\"120\" />\n",
       "  <line x1=\"9\" y1=\"0\" x2=\"9\" y2=\"120\" />\n",
       "  <line x1=\"10\" y1=\"0\" x2=\"10\" y2=\"120\" />\n",
       "  <line x1=\"11\" y1=\"0\" x2=\"11\" y2=\"120\" />\n",
       "  <line x1=\"13\" y1=\"0\" x2=\"13\" y2=\"120\" />\n",
       "  <line x1=\"14\" y1=\"0\" x2=\"14\" y2=\"120\" />\n",
       "  <line x1=\"15\" y1=\"0\" x2=\"15\" y2=\"120\" />\n",
       "  <line x1=\"17\" y1=\"0\" x2=\"17\" y2=\"120\" />\n",
       "  <line x1=\"18\" y1=\"0\" x2=\"18\" y2=\"120\" />\n",
       "  <line x1=\"19\" y1=\"0\" x2=\"19\" y2=\"120\" />\n",
       "  <line x1=\"21\" y1=\"0\" x2=\"21\" y2=\"120\" />\n",
       "  <line x1=\"22\" y1=\"0\" x2=\"22\" y2=\"120\" />\n",
       "  <line x1=\"23\" y1=\"0\" x2=\"23\" y2=\"120\" />\n",
       "  <line x1=\"25\" y1=\"0\" x2=\"25\" y2=\"120\" style=\"stroke-width:2\" />\n",
       "\n",
       "  <!-- Colored Rectangle -->\n",
       "  <polygon points=\"0.0,0.0 25.412616514582485,0.0 25.412616514582485,120.0 0.0,120.0\" style=\"fill:#8B4903A0;stroke-width:0\"/>\n",
       "\n",
       "  <!-- Text -->\n",
       "  <text x=\"12.706308\" y=\"140.000000\" font-size=\"1.0rem\" font-weight=\"100\" text-anchor=\"middle\" >63</text>\n",
       "  <text x=\"45.412617\" y=\"60.000000\" font-size=\"1.0rem\" font-weight=\"100\" text-anchor=\"middle\" transform=\"rotate(-90,45.412617,60.000000)\">46516000</text>\n",
       "</svg>\n",
       "</td>\n",
       "</tr>\n",
       "</table>"
      ],
      "text/plain": [
       "dask.array<transpose, shape=(46516000, 63), dtype=float64, chunksize=(23258000, 1), chunktype=numpy.ndarray>"
      ]
     },
     "execution_count": 17,
     "metadata": {},
     "output_type": "execute_result"
    }
   ],
   "source": [
    "#datasets = client.scatter(datasets)\n",
    "datasets.result()"
   ]
  },
  {
   "cell_type": "code",
   "execution_count": 16,
   "metadata": {},
   "outputs": [],
   "source": [
    "datasets = da.transpose(da.concatenate((dirt_feature, dirt2d_feature, wind_feature.result(), anthroemis_future.result(), lightning_future.result()),axis=0))\n",
    "X = datasets[:, 1:]\n",
    "y = datasets[:, 0]\n",
    "X,y = dask.persist(X,y)\n",
    "del datasets"
   ]
  },
  {
   "cell_type": "code",
   "execution_count": 17,
   "metadata": {},
   "outputs": [],
   "source": [
    "for future in futures:\n",
    "    del future\n",
    "for future in futures_2d:\n",
    "    del future\n",
    "del wind_feature\n",
    "del anthroemis_future\n",
    "del lightning_future"
   ]
  },
  {
   "cell_type": "code",
   "execution_count": 25,
   "metadata": {},
   "outputs": [],
   "source": [
    "chunksize = int(X.shape[0]/60)\n",
    "X = X.rechunk(chunks=(chunksize,62))\n",
    "y = y.rechunk(chunks=(chunksize,1))"
   ]
  },
  {
   "cell_type": "code",
   "execution_count": 26,
   "metadata": {},
   "outputs": [
    {
     "data": {
      "text/html": [
       "<table>\n",
       "<tr>\n",
       "<td>\n",
       "<table>\n",
       "  <thead>\n",
       "    <tr><td> </td><th> Array </th><th> Chunk </th></tr>\n",
       "  </thead>\n",
       "  <tbody>\n",
       "    <tr><th> Bytes </th><td> 23.07 GB </td> <td> 384.53 MB </td></tr>\n",
       "    <tr><th> Shape </th><td> (46516000, 62) </td> <td> (775266, 62) </td></tr>\n",
       "    <tr><th> Count </th><td> 96587 Tasks </td><td> 61 Chunks </td></tr>\n",
       "    <tr><th> Type </th><td> float64 </td><td> numpy.ndarray </td></tr>\n",
       "  </tbody>\n",
       "</table>\n",
       "</td>\n",
       "<td>\n",
       "<svg width=\"75\" height=\"170\" style=\"stroke:rgb(0,0,0);stroke-width:1\" >\n",
       "\n",
       "  <!-- Horizontal lines -->\n",
       "  <line x1=\"0\" y1=\"0\" x2=\"25\" y2=\"0\" style=\"stroke-width:2\" />\n",
       "  <line x1=\"0\" y1=\"5\" x2=\"25\" y2=\"5\" />\n",
       "  <line x1=\"0\" y1=\"11\" x2=\"25\" y2=\"11\" />\n",
       "  <line x1=\"0\" y1=\"17\" x2=\"25\" y2=\"17\" />\n",
       "  <line x1=\"0\" y1=\"23\" x2=\"25\" y2=\"23\" />\n",
       "  <line x1=\"0\" y1=\"31\" x2=\"25\" y2=\"31\" />\n",
       "  <line x1=\"0\" y1=\"37\" x2=\"25\" y2=\"37\" />\n",
       "  <line x1=\"0\" y1=\"43\" x2=\"25\" y2=\"43\" />\n",
       "  <line x1=\"0\" y1=\"49\" x2=\"25\" y2=\"49\" />\n",
       "  <line x1=\"0\" y1=\"55\" x2=\"25\" y2=\"55\" />\n",
       "  <line x1=\"0\" y1=\"63\" x2=\"25\" y2=\"63\" />\n",
       "  <line x1=\"0\" y1=\"69\" x2=\"25\" y2=\"69\" />\n",
       "  <line x1=\"0\" y1=\"75\" x2=\"25\" y2=\"75\" />\n",
       "  <line x1=\"0\" y1=\"81\" x2=\"25\" y2=\"81\" />\n",
       "  <line x1=\"0\" y1=\"87\" x2=\"25\" y2=\"87\" />\n",
       "  <line x1=\"0\" y1=\"95\" x2=\"25\" y2=\"95\" />\n",
       "  <line x1=\"0\" y1=\"101\" x2=\"25\" y2=\"101\" />\n",
       "  <line x1=\"0\" y1=\"107\" x2=\"25\" y2=\"107\" />\n",
       "  <line x1=\"0\" y1=\"113\" x2=\"25\" y2=\"113\" />\n",
       "  <line x1=\"0\" y1=\"120\" x2=\"25\" y2=\"120\" style=\"stroke-width:2\" />\n",
       "\n",
       "  <!-- Vertical lines -->\n",
       "  <line x1=\"0\" y1=\"0\" x2=\"0\" y2=\"120\" style=\"stroke-width:2\" />\n",
       "  <line x1=\"25\" y1=\"0\" x2=\"25\" y2=\"120\" style=\"stroke-width:2\" />\n",
       "\n",
       "  <!-- Colored Rectangle -->\n",
       "  <polygon points=\"0.0,0.0 25.412616514582485,0.0 25.412616514582485,120.0 0.0,120.0\" style=\"fill:#8B4903A0;stroke-width:0\"/>\n",
       "\n",
       "  <!-- Text -->\n",
       "  <text x=\"12.706308\" y=\"140.000000\" font-size=\"1.0rem\" font-weight=\"100\" text-anchor=\"middle\" >62</text>\n",
       "  <text x=\"45.412617\" y=\"60.000000\" font-size=\"1.0rem\" font-weight=\"100\" text-anchor=\"middle\" transform=\"rotate(-90,45.412617,60.000000)\">46516000</text>\n",
       "</svg>\n",
       "</td>\n",
       "</tr>\n",
       "</table>"
      ],
      "text/plain": [
       "dask.array<rechunk-merge, shape=(46516000, 62), dtype=float64, chunksize=(775266, 62), chunktype=numpy.ndarray>"
      ]
     },
     "execution_count": 26,
     "metadata": {},
     "output_type": "execute_result"
    }
   ],
   "source": [
    "X"
   ]
  },
  {
   "cell_type": "code",
   "execution_count": null,
   "metadata": {
    "scrolled": true
   },
   "outputs": [],
   "source": [
    "client.shutdown()\n"
   ]
  },
  {
   "cell_type": "code",
   "execution_count": null,
   "metadata": {},
   "outputs": [],
   "source": [
    "dtrain = xgb.dask.DaskDMatrix(client, X, y)"
   ]
  },
  {
   "cell_type": "code",
   "execution_count": 81,
   "metadata": {},
   "outputs": [
    {
     "ename": "XGBoostError",
     "evalue": "[19:01:38] /workspace/src/learner.cc:946: Check failed: mparam_.num_feature != 0 (0 vs. 0) : 0 feature is supplied.  Are you using raw Booster interface?\nStack trace:\n  [bt] (0) /global/home/users/qindan_zhu/PYTHON/SatelliteNO2/venv/lib/python3.6/site-packages/xgboost/./lib/libxgboost.so(dmlc::LogMessageFatal::~LogMessageFatal()+0x54) [0x2af12f77e614]\n  [bt] (1) /global/home/users/qindan_zhu/PYTHON/SatelliteNO2/venv/lib/python3.6/site-packages/xgboost/./lib/libxgboost.so(xgboost::LearnerImpl::ConfigureNumFeatures()+0x600) [0x2af12f862ff0]\n  [bt] (2) /global/home/users/qindan_zhu/PYTHON/SatelliteNO2/venv/lib/python3.6/site-packages/xgboost/./lib/libxgboost.so(xgboost::LearnerImpl::Configure()+0x385) [0x2af12f86fb75]\n  [bt] (3) /global/home/users/qindan_zhu/PYTHON/SatelliteNO2/venv/lib/python3.6/site-packages/xgboost/./lib/libxgboost.so(xgboost::LearnerImpl::UpdateOneIter(int, xgboost::DMatrix*)+0x6d) [0x2af12f86a69d]\n  [bt] (4) /global/home/users/qindan_zhu/PYTHON/SatelliteNO2/venv/lib/python3.6/site-packages/xgboost/./lib/libxgboost.so(XGBoosterUpdateOneIter+0x29) [0x2af12f76d639]\n  [bt] (5) /global/software/sl-7.x86_64/modules/langs/python/3.6/lib/python3.6/lib-dynload/../../libffi.so.6(ffi_call_unix64+0x4c) [0x2aef099feadc]\n  [bt] (6) /global/software/sl-7.x86_64/modules/langs/python/3.6/lib/python3.6/lib-dynload/../../libffi.so.6(ffi_call+0x1f2) [0x2aef099fe282]\n  [bt] (7) /global/software/sl-7.x86_64/modules/langs/python/3.6/lib/python3.6/lib-dynload/_ctypes.cpython-36m-x86_64-linux-gnu.so(_ctypes_callproc+0x2ce) [0x2aef099e5ede]\n  [bt] (8) /global/software/sl-7.x86_64/modules/langs/python/3.6/lib/python3.6/lib-dynload/_ctypes.cpython-36m-x86_64-linux-gnu.so(+0x13915) [0x2aef099e6915]\n\n",
     "output_type": "error",
     "traceback": [
      "\u001b[0;31m---------------------------------------------------------------------------\u001b[0m",
      "\u001b[0;31mXGBoostError\u001b[0m                              Traceback (most recent call last)",
      "\u001b[0;32m<ipython-input-81-0fece6946819>\u001b[0m in \u001b[0;36m<module>\u001b[0;34m\u001b[0m\n\u001b[1;32m      5\u001b[0m                          },\n\u001b[1;32m      6\u001b[0m                         \u001b[0mdtrain\u001b[0m\u001b[0;34m,\u001b[0m\u001b[0;34m\u001b[0m\u001b[0;34m\u001b[0m\u001b[0m\n\u001b[0;32m----> 7\u001b[0;31m                         num_boost_round=4, evals=[(dtrain, 'train')])\n\u001b[0m",
      "\u001b[0;32m~/PYTHON/SatelliteNO2/venv/lib/python3.6/site-packages/xgboost/dask.py\u001b[0m in \u001b[0;36mtrain\u001b[0;34m(client, params, dtrain, evals, *args, **kwargs)\u001b[0m\n\u001b[1;32m    417\u001b[0m                          \u001b[0mpure\u001b[0m\u001b[0;34m=\u001b[0m\u001b[0;32mFalse\u001b[0m\u001b[0;34m,\u001b[0m\u001b[0;34m\u001b[0m\u001b[0;34m\u001b[0m\u001b[0m\n\u001b[1;32m    418\u001b[0m                          workers=workers)\n\u001b[0;32m--> 419\u001b[0;31m     \u001b[0mresults\u001b[0m \u001b[0;34m=\u001b[0m \u001b[0mclient\u001b[0m\u001b[0;34m.\u001b[0m\u001b[0mgather\u001b[0m\u001b[0;34m(\u001b[0m\u001b[0mfutures\u001b[0m\u001b[0;34m)\u001b[0m\u001b[0;34m\u001b[0m\u001b[0;34m\u001b[0m\u001b[0m\n\u001b[0m\u001b[1;32m    420\u001b[0m     \u001b[0;32mreturn\u001b[0m \u001b[0mlist\u001b[0m\u001b[0;34m(\u001b[0m\u001b[0mfilter\u001b[0m\u001b[0;34m(\u001b[0m\u001b[0;32mlambda\u001b[0m \u001b[0mret\u001b[0m\u001b[0;34m:\u001b[0m \u001b[0mret\u001b[0m \u001b[0;32mis\u001b[0m \u001b[0;32mnot\u001b[0m \u001b[0;32mNone\u001b[0m\u001b[0;34m,\u001b[0m \u001b[0mresults\u001b[0m\u001b[0;34m)\u001b[0m\u001b[0;34m)\u001b[0m\u001b[0;34m[\u001b[0m\u001b[0;36m0\u001b[0m\u001b[0;34m]\u001b[0m\u001b[0;34m\u001b[0m\u001b[0;34m\u001b[0m\u001b[0m\n\u001b[1;32m    421\u001b[0m \u001b[0;34m\u001b[0m\u001b[0m\n",
      "\u001b[0;32m~/PYTHON/SatelliteNO2/venv/lib/python3.6/site-packages/distributed/client.py\u001b[0m in \u001b[0;36mgather\u001b[0;34m(self, futures, errors, direct, asynchronous)\u001b[0m\n\u001b[1;32m   1989\u001b[0m                 \u001b[0mdirect\u001b[0m\u001b[0;34m=\u001b[0m\u001b[0mdirect\u001b[0m\u001b[0;34m,\u001b[0m\u001b[0;34m\u001b[0m\u001b[0;34m\u001b[0m\u001b[0m\n\u001b[1;32m   1990\u001b[0m                 \u001b[0mlocal_worker\u001b[0m\u001b[0;34m=\u001b[0m\u001b[0mlocal_worker\u001b[0m\u001b[0;34m,\u001b[0m\u001b[0;34m\u001b[0m\u001b[0;34m\u001b[0m\u001b[0m\n\u001b[0;32m-> 1991\u001b[0;31m                 \u001b[0masynchronous\u001b[0m\u001b[0;34m=\u001b[0m\u001b[0masynchronous\u001b[0m\u001b[0;34m,\u001b[0m\u001b[0;34m\u001b[0m\u001b[0;34m\u001b[0m\u001b[0m\n\u001b[0m\u001b[1;32m   1992\u001b[0m             )\n\u001b[1;32m   1993\u001b[0m \u001b[0;34m\u001b[0m\u001b[0m\n",
      "\u001b[0;32m~/PYTHON/SatelliteNO2/venv/lib/python3.6/site-packages/distributed/client.py\u001b[0m in \u001b[0;36msync\u001b[0;34m(self, func, asynchronous, callback_timeout, *args, **kwargs)\u001b[0m\n\u001b[1;32m    830\u001b[0m         \u001b[0;32melse\u001b[0m\u001b[0;34m:\u001b[0m\u001b[0;34m\u001b[0m\u001b[0;34m\u001b[0m\u001b[0m\n\u001b[1;32m    831\u001b[0m             return sync(\n\u001b[0;32m--> 832\u001b[0;31m                 \u001b[0mself\u001b[0m\u001b[0;34m.\u001b[0m\u001b[0mloop\u001b[0m\u001b[0;34m,\u001b[0m \u001b[0mfunc\u001b[0m\u001b[0;34m,\u001b[0m \u001b[0;34m*\u001b[0m\u001b[0margs\u001b[0m\u001b[0;34m,\u001b[0m \u001b[0mcallback_timeout\u001b[0m\u001b[0;34m=\u001b[0m\u001b[0mcallback_timeout\u001b[0m\u001b[0;34m,\u001b[0m \u001b[0;34m**\u001b[0m\u001b[0mkwargs\u001b[0m\u001b[0;34m\u001b[0m\u001b[0;34m\u001b[0m\u001b[0m\n\u001b[0m\u001b[1;32m    833\u001b[0m             )\n\u001b[1;32m    834\u001b[0m \u001b[0;34m\u001b[0m\u001b[0m\n",
      "\u001b[0;32m~/PYTHON/SatelliteNO2/venv/lib/python3.6/site-packages/distributed/utils.py\u001b[0m in \u001b[0;36msync\u001b[0;34m(loop, func, callback_timeout, *args, **kwargs)\u001b[0m\n\u001b[1;32m    338\u001b[0m     \u001b[0;32mif\u001b[0m \u001b[0merror\u001b[0m\u001b[0;34m[\u001b[0m\u001b[0;36m0\u001b[0m\u001b[0;34m]\u001b[0m\u001b[0;34m:\u001b[0m\u001b[0;34m\u001b[0m\u001b[0;34m\u001b[0m\u001b[0m\n\u001b[1;32m    339\u001b[0m         \u001b[0mtyp\u001b[0m\u001b[0;34m,\u001b[0m \u001b[0mexc\u001b[0m\u001b[0;34m,\u001b[0m \u001b[0mtb\u001b[0m \u001b[0;34m=\u001b[0m \u001b[0merror\u001b[0m\u001b[0;34m[\u001b[0m\u001b[0;36m0\u001b[0m\u001b[0;34m]\u001b[0m\u001b[0;34m\u001b[0m\u001b[0;34m\u001b[0m\u001b[0m\n\u001b[0;32m--> 340\u001b[0;31m         \u001b[0;32mraise\u001b[0m \u001b[0mexc\u001b[0m\u001b[0;34m.\u001b[0m\u001b[0mwith_traceback\u001b[0m\u001b[0;34m(\u001b[0m\u001b[0mtb\u001b[0m\u001b[0;34m)\u001b[0m\u001b[0;34m\u001b[0m\u001b[0;34m\u001b[0m\u001b[0m\n\u001b[0m\u001b[1;32m    341\u001b[0m     \u001b[0;32melse\u001b[0m\u001b[0;34m:\u001b[0m\u001b[0;34m\u001b[0m\u001b[0;34m\u001b[0m\u001b[0m\n\u001b[1;32m    342\u001b[0m         \u001b[0;32mreturn\u001b[0m \u001b[0mresult\u001b[0m\u001b[0;34m[\u001b[0m\u001b[0;36m0\u001b[0m\u001b[0;34m]\u001b[0m\u001b[0;34m\u001b[0m\u001b[0;34m\u001b[0m\u001b[0m\n",
      "\u001b[0;32m~/PYTHON/SatelliteNO2/venv/lib/python3.6/site-packages/distributed/utils.py\u001b[0m in \u001b[0;36mf\u001b[0;34m()\u001b[0m\n\u001b[1;32m    322\u001b[0m             \u001b[0;32mif\u001b[0m \u001b[0mcallback_timeout\u001b[0m \u001b[0;32mis\u001b[0m \u001b[0;32mnot\u001b[0m \u001b[0;32mNone\u001b[0m\u001b[0;34m:\u001b[0m\u001b[0;34m\u001b[0m\u001b[0;34m\u001b[0m\u001b[0m\n\u001b[1;32m    323\u001b[0m                 \u001b[0mfuture\u001b[0m \u001b[0;34m=\u001b[0m \u001b[0masyncio\u001b[0m\u001b[0;34m.\u001b[0m\u001b[0mwait_for\u001b[0m\u001b[0;34m(\u001b[0m\u001b[0mfuture\u001b[0m\u001b[0;34m,\u001b[0m \u001b[0mcallback_timeout\u001b[0m\u001b[0;34m)\u001b[0m\u001b[0;34m\u001b[0m\u001b[0;34m\u001b[0m\u001b[0m\n\u001b[0;32m--> 324\u001b[0;31m             \u001b[0mresult\u001b[0m\u001b[0;34m[\u001b[0m\u001b[0;36m0\u001b[0m\u001b[0;34m]\u001b[0m \u001b[0;34m=\u001b[0m \u001b[0;32myield\u001b[0m \u001b[0mfuture\u001b[0m\u001b[0;34m\u001b[0m\u001b[0;34m\u001b[0m\u001b[0m\n\u001b[0m\u001b[1;32m    325\u001b[0m         \u001b[0;32mexcept\u001b[0m \u001b[0mException\u001b[0m \u001b[0;32mas\u001b[0m \u001b[0mexc\u001b[0m\u001b[0;34m:\u001b[0m\u001b[0;34m\u001b[0m\u001b[0;34m\u001b[0m\u001b[0m\n\u001b[1;32m    326\u001b[0m             \u001b[0merror\u001b[0m\u001b[0;34m[\u001b[0m\u001b[0;36m0\u001b[0m\u001b[0;34m]\u001b[0m \u001b[0;34m=\u001b[0m \u001b[0msys\u001b[0m\u001b[0;34m.\u001b[0m\u001b[0mexc_info\u001b[0m\u001b[0;34m(\u001b[0m\u001b[0;34m)\u001b[0m\u001b[0;34m\u001b[0m\u001b[0;34m\u001b[0m\u001b[0m\n",
      "\u001b[0;32m~/PYTHON/SatelliteNO2/venv/lib/python3.6/site-packages/tornado/gen.py\u001b[0m in \u001b[0;36mrun\u001b[0;34m(self)\u001b[0m\n\u001b[1;32m    760\u001b[0m \u001b[0;34m\u001b[0m\u001b[0m\n\u001b[1;32m    761\u001b[0m                     \u001b[0;32mtry\u001b[0m\u001b[0;34m:\u001b[0m\u001b[0;34m\u001b[0m\u001b[0;34m\u001b[0m\u001b[0m\n\u001b[0;32m--> 762\u001b[0;31m                         \u001b[0mvalue\u001b[0m \u001b[0;34m=\u001b[0m \u001b[0mfuture\u001b[0m\u001b[0;34m.\u001b[0m\u001b[0mresult\u001b[0m\u001b[0;34m(\u001b[0m\u001b[0;34m)\u001b[0m\u001b[0;34m\u001b[0m\u001b[0;34m\u001b[0m\u001b[0m\n\u001b[0m\u001b[1;32m    763\u001b[0m                     \u001b[0;32mexcept\u001b[0m \u001b[0mException\u001b[0m\u001b[0;34m:\u001b[0m\u001b[0;34m\u001b[0m\u001b[0;34m\u001b[0m\u001b[0m\n\u001b[1;32m    764\u001b[0m                         \u001b[0mexc_info\u001b[0m \u001b[0;34m=\u001b[0m \u001b[0msys\u001b[0m\u001b[0;34m.\u001b[0m\u001b[0mexc_info\u001b[0m\u001b[0;34m(\u001b[0m\u001b[0;34m)\u001b[0m\u001b[0;34m\u001b[0m\u001b[0;34m\u001b[0m\u001b[0m\n",
      "\u001b[0;32m~/PYTHON/SatelliteNO2/venv/lib/python3.6/site-packages/distributed/client.py\u001b[0m in \u001b[0;36m_gather\u001b[0;34m(self, futures, errors, direct, local_worker)\u001b[0m\n\u001b[1;32m   1848\u001b[0m                             \u001b[0mexc\u001b[0m \u001b[0;34m=\u001b[0m \u001b[0mCancelledError\u001b[0m\u001b[0;34m(\u001b[0m\u001b[0mkey\u001b[0m\u001b[0;34m)\u001b[0m\u001b[0;34m\u001b[0m\u001b[0;34m\u001b[0m\u001b[0m\n\u001b[1;32m   1849\u001b[0m                         \u001b[0;32melse\u001b[0m\u001b[0;34m:\u001b[0m\u001b[0;34m\u001b[0m\u001b[0;34m\u001b[0m\u001b[0m\n\u001b[0;32m-> 1850\u001b[0;31m                             \u001b[0;32mraise\u001b[0m \u001b[0mexception\u001b[0m\u001b[0;34m.\u001b[0m\u001b[0mwith_traceback\u001b[0m\u001b[0;34m(\u001b[0m\u001b[0mtraceback\u001b[0m\u001b[0;34m)\u001b[0m\u001b[0;34m\u001b[0m\u001b[0;34m\u001b[0m\u001b[0m\n\u001b[0m\u001b[1;32m   1851\u001b[0m                         \u001b[0;32mraise\u001b[0m \u001b[0mexc\u001b[0m\u001b[0;34m\u001b[0m\u001b[0;34m\u001b[0m\u001b[0m\n\u001b[1;32m   1852\u001b[0m                     \u001b[0;32mif\u001b[0m \u001b[0merrors\u001b[0m \u001b[0;34m==\u001b[0m \u001b[0;34m\"skip\"\u001b[0m\u001b[0;34m:\u001b[0m\u001b[0;34m\u001b[0m\u001b[0;34m\u001b[0m\u001b[0m\n",
      "\u001b[0;32m~/PYTHON/SatelliteNO2/venv/lib/python3.6/site-packages/xgboost/dask.py\u001b[0m in \u001b[0;36mdispatched_train\u001b[0;34m()\u001b[0m\n\u001b[1;32m    407\u001b[0m                                \u001b[0mevals_result\u001b[0m\u001b[0;34m=\u001b[0m\u001b[0mlocal_history\u001b[0m\u001b[0;34m,\u001b[0m\u001b[0;34m\u001b[0m\u001b[0;34m\u001b[0m\u001b[0m\n\u001b[1;32m    408\u001b[0m                                \u001b[0mevals\u001b[0m\u001b[0;34m=\u001b[0m\u001b[0mlocal_evals\u001b[0m\u001b[0;34m,\u001b[0m\u001b[0;34m\u001b[0m\u001b[0;34m\u001b[0m\u001b[0m\n\u001b[0;32m--> 409\u001b[0;31m                                **kwargs)\n\u001b[0m\u001b[1;32m    410\u001b[0m             \u001b[0mret\u001b[0m \u001b[0;34m=\u001b[0m \u001b[0;34m{\u001b[0m\u001b[0;34m'booster'\u001b[0m\u001b[0;34m:\u001b[0m \u001b[0mbst\u001b[0m\u001b[0;34m,\u001b[0m \u001b[0;34m'history'\u001b[0m\u001b[0;34m:\u001b[0m \u001b[0mlocal_history\u001b[0m\u001b[0;34m}\u001b[0m\u001b[0;34m\u001b[0m\u001b[0;34m\u001b[0m\u001b[0m\n\u001b[1;32m    411\u001b[0m             \u001b[0;32mif\u001b[0m \u001b[0mlocal_dtrain\u001b[0m\u001b[0;34m.\u001b[0m\u001b[0mnum_row\u001b[0m\u001b[0;34m(\u001b[0m\u001b[0;34m)\u001b[0m \u001b[0;34m==\u001b[0m \u001b[0;36m0\u001b[0m\u001b[0;34m:\u001b[0m\u001b[0;34m\u001b[0m\u001b[0;34m\u001b[0m\u001b[0m\n",
      "\u001b[0;32m~/PYTHON/SatelliteNO2/venv/lib/python3.6/site-packages/xgboost/training.py\u001b[0m in \u001b[0;36mtrain\u001b[0;34m()\u001b[0m\n\u001b[1;32m    207\u001b[0m                            \u001b[0mevals\u001b[0m\u001b[0;34m=\u001b[0m\u001b[0mevals\u001b[0m\u001b[0;34m,\u001b[0m\u001b[0;34m\u001b[0m\u001b[0;34m\u001b[0m\u001b[0m\n\u001b[1;32m    208\u001b[0m                            \u001b[0mobj\u001b[0m\u001b[0;34m=\u001b[0m\u001b[0mobj\u001b[0m\u001b[0;34m,\u001b[0m \u001b[0mfeval\u001b[0m\u001b[0;34m=\u001b[0m\u001b[0mfeval\u001b[0m\u001b[0;34m,\u001b[0m\u001b[0;34m\u001b[0m\u001b[0;34m\u001b[0m\u001b[0m\n\u001b[0;32m--> 209\u001b[0;31m                            xgb_model=xgb_model, callbacks=callbacks)\n\u001b[0m\u001b[1;32m    210\u001b[0m \u001b[0;34m\u001b[0m\u001b[0m\n\u001b[1;32m    211\u001b[0m \u001b[0;34m\u001b[0m\u001b[0m\n",
      "\u001b[0;32m~/PYTHON/SatelliteNO2/venv/lib/python3.6/site-packages/xgboost/training.py\u001b[0m in \u001b[0;36m_train_internal\u001b[0;34m()\u001b[0m\n\u001b[1;32m     72\u001b[0m         \u001b[0;31m# Skip the first update if it is a recovery step.\u001b[0m\u001b[0;34m\u001b[0m\u001b[0;34m\u001b[0m\u001b[0;34m\u001b[0m\u001b[0m\n\u001b[1;32m     73\u001b[0m         \u001b[0;32mif\u001b[0m \u001b[0mversion\u001b[0m \u001b[0;34m%\u001b[0m \u001b[0;36m2\u001b[0m \u001b[0;34m==\u001b[0m \u001b[0;36m0\u001b[0m\u001b[0;34m:\u001b[0m\u001b[0;34m\u001b[0m\u001b[0;34m\u001b[0m\u001b[0m\n\u001b[0;32m---> 74\u001b[0;31m             \u001b[0mbst\u001b[0m\u001b[0;34m.\u001b[0m\u001b[0mupdate\u001b[0m\u001b[0;34m(\u001b[0m\u001b[0mdtrain\u001b[0m\u001b[0;34m,\u001b[0m \u001b[0mi\u001b[0m\u001b[0;34m,\u001b[0m \u001b[0mobj\u001b[0m\u001b[0;34m)\u001b[0m\u001b[0;34m\u001b[0m\u001b[0;34m\u001b[0m\u001b[0m\n\u001b[0m\u001b[1;32m     75\u001b[0m             \u001b[0mbst\u001b[0m\u001b[0;34m.\u001b[0m\u001b[0msave_rabit_checkpoint\u001b[0m\u001b[0;34m(\u001b[0m\u001b[0;34m)\u001b[0m\u001b[0;34m\u001b[0m\u001b[0;34m\u001b[0m\u001b[0m\n\u001b[1;32m     76\u001b[0m             \u001b[0mversion\u001b[0m \u001b[0;34m+=\u001b[0m \u001b[0;36m1\u001b[0m\u001b[0;34m\u001b[0m\u001b[0;34m\u001b[0m\u001b[0m\n",
      "\u001b[0;32m~/PYTHON/SatelliteNO2/venv/lib/python3.6/site-packages/xgboost/core.py\u001b[0m in \u001b[0;36mupdate\u001b[0;34m()\u001b[0m\n\u001b[1;32m   1246\u001b[0m             _check_call(_LIB.XGBoosterUpdateOneIter(self.handle,\n\u001b[1;32m   1247\u001b[0m                                                     \u001b[0mctypes\u001b[0m\u001b[0;34m.\u001b[0m\u001b[0mc_int\u001b[0m\u001b[0;34m(\u001b[0m\u001b[0miteration\u001b[0m\u001b[0;34m)\u001b[0m\u001b[0;34m,\u001b[0m\u001b[0;34m\u001b[0m\u001b[0;34m\u001b[0m\u001b[0m\n\u001b[0;32m-> 1248\u001b[0;31m                                                     dtrain.handle))\n\u001b[0m\u001b[1;32m   1249\u001b[0m         \u001b[0;32melse\u001b[0m\u001b[0;34m:\u001b[0m\u001b[0;34m\u001b[0m\u001b[0;34m\u001b[0m\u001b[0m\n\u001b[1;32m   1250\u001b[0m             \u001b[0mpred\u001b[0m \u001b[0;34m=\u001b[0m \u001b[0mself\u001b[0m\u001b[0;34m.\u001b[0m\u001b[0mpredict\u001b[0m\u001b[0;34m(\u001b[0m\u001b[0mdtrain\u001b[0m\u001b[0;34m,\u001b[0m \u001b[0mtraining\u001b[0m\u001b[0;34m=\u001b[0m\u001b[0;32mTrue\u001b[0m\u001b[0;34m)\u001b[0m\u001b[0;34m\u001b[0m\u001b[0;34m\u001b[0m\u001b[0m\n",
      "\u001b[0;32m~/PYTHON/SatelliteNO2/venv/lib/python3.6/site-packages/xgboost/core.py\u001b[0m in \u001b[0;36m_check_call\u001b[0;34m()\u001b[0m\n\u001b[1;32m    187\u001b[0m     \"\"\"\n\u001b[1;32m    188\u001b[0m     \u001b[0;32mif\u001b[0m \u001b[0mret\u001b[0m \u001b[0;34m!=\u001b[0m \u001b[0;36m0\u001b[0m\u001b[0;34m:\u001b[0m\u001b[0;34m\u001b[0m\u001b[0;34m\u001b[0m\u001b[0m\n\u001b[0;32m--> 189\u001b[0;31m         \u001b[0;32mraise\u001b[0m \u001b[0mXGBoostError\u001b[0m\u001b[0;34m(\u001b[0m\u001b[0mpy_str\u001b[0m\u001b[0;34m(\u001b[0m\u001b[0m_LIB\u001b[0m\u001b[0;34m.\u001b[0m\u001b[0mXGBGetLastError\u001b[0m\u001b[0;34m(\u001b[0m\u001b[0;34m)\u001b[0m\u001b[0;34m)\u001b[0m\u001b[0;34m)\u001b[0m\u001b[0;34m\u001b[0m\u001b[0;34m\u001b[0m\u001b[0m\n\u001b[0m\u001b[1;32m    190\u001b[0m \u001b[0;34m\u001b[0m\u001b[0m\n\u001b[1;32m    191\u001b[0m \u001b[0;34m\u001b[0m\u001b[0m\n",
      "\u001b[0;31mXGBoostError\u001b[0m: [19:01:38] /workspace/src/learner.cc:946: Check failed: mparam_.num_feature != 0 (0 vs. 0) : 0 feature is supplied.  Are you using raw Booster interface?\nStack trace:\n  [bt] (0) /global/home/users/qindan_zhu/PYTHON/SatelliteNO2/venv/lib/python3.6/site-packages/xgboost/./lib/libxgboost.so(dmlc::LogMessageFatal::~LogMessageFatal()+0x54) [0x2af12f77e614]\n  [bt] (1) /global/home/users/qindan_zhu/PYTHON/SatelliteNO2/venv/lib/python3.6/site-packages/xgboost/./lib/libxgboost.so(xgboost::LearnerImpl::ConfigureNumFeatures()+0x600) [0x2af12f862ff0]\n  [bt] (2) /global/home/users/qindan_zhu/PYTHON/SatelliteNO2/venv/lib/python3.6/site-packages/xgboost/./lib/libxgboost.so(xgboost::LearnerImpl::Configure()+0x385) [0x2af12f86fb75]\n  [bt] (3) /global/home/users/qindan_zhu/PYTHON/SatelliteNO2/venv/lib/python3.6/site-packages/xgboost/./lib/libxgboost.so(xgboost::LearnerImpl::UpdateOneIter(int, xgboost::DMatrix*)+0x6d) [0x2af12f86a69d]\n  [bt] (4) /global/home/users/qindan_zhu/PYTHON/SatelliteNO2/venv/lib/python3.6/site-packages/xgboost/./lib/libxgboost.so(XGBoosterUpdateOneIter+0x29) [0x2af12f76d639]\n  [bt] (5) /global/software/sl-7.x86_64/modules/langs/python/3.6/lib/python3.6/lib-dynload/../../libffi.so.6(ffi_call_unix64+0x4c) [0x2aef099feadc]\n  [bt] (6) /global/software/sl-7.x86_64/modules/langs/python/3.6/lib/python3.6/lib-dynload/../../libffi.so.6(ffi_call+0x1f2) [0x2aef099fe282]\n  [bt] (7) /global/software/sl-7.x86_64/modules/langs/python/3.6/lib/python3.6/lib-dynload/_ctypes.cpython-36m-x86_64-linux-gnu.so(_ctypes_callproc+0x2ce) [0x2aef099e5ede]\n  [bt] (8) /global/software/sl-7.x86_64/modules/langs/python/3.6/lib/python3.6/lib-dynload/_ctypes.cpython-36m-x86_64-linux-gnu.so(+0x13915) [0x2aef099e6915]\n\n"
     ]
    }
   ],
   "source": [
    "output = xgb.dask.train(client,\n",
    "                        {'verbosity': 2,\n",
    "                         \n",
    "                         'tree_method': 'hist',\n",
    "                         'objective': 'reg:squarederror',\n",
    "                         'subsample': 0.1,\n",
    "                         'sampling_method': 'gradient_based'\n",
    "                         },\n",
    "                        dtrain,\n",
    "                        num_boost_round=4, evals=[(dtrain, 'train')])"
   ]
  },
  {
   "cell_type": "code",
   "execution_count": 75,
   "metadata": {},
   "outputs": [
    {
     "data": {
      "text/html": [
       "<table style=\"border: 2px solid white;\">\n",
       "<tr>\n",
       "<td style=\"vertical-align: top; border: 0px solid white\">\n",
       "<h3 style=\"text-align: left;\">Client</h3>\n",
       "<ul style=\"text-align: left; list-style: none; margin: 0; padding: 0;\">\n",
       "  <li><b>Scheduler: </b>tcp://10.0.0.24:39571</li>\n",
       "  <li><b>Dashboard: </b><a href='http://10.0.0.24:8787/status' target='_blank'>http://10.0.0.24:8787/status</a></li>\n",
       "</ul>\n",
       "</td>\n",
       "<td style=\"vertical-align: top; border: 0px solid white\">\n",
       "<h3 style=\"text-align: left;\">Cluster</h3>\n",
       "<ul style=\"text-align: left; list-style:none; margin: 0; padding: 0;\">\n",
       "  <li><b>Workers: </b>40</li>\n",
       "  <li><b>Cores: </b>160</li>\n",
       "  <li><b>Memory: </b>480.00 GB</li>\n",
       "</ul>\n",
       "</td>\n",
       "</tr>\n",
       "</table>"
      ],
      "text/plain": [
       "<Client: 'tcp://10.0.0.24:39571' processes=40 threads=160, memory=480.00 GB>"
      ]
     },
     "execution_count": 75,
     "metadata": {},
     "output_type": "execute_result"
    }
   ],
   "source": [
    "client"
   ]
  },
  {
   "cell_type": "code",
   "execution_count": 40,
   "metadata": {},
   "outputs": [
    {
     "ename": "ModuleNotFoundError",
     "evalue": "No module named 'dask_xgboost'",
     "output_type": "error",
     "traceback": [
      "\u001b[0;31m---------------------------------------------------------------------------\u001b[0m",
      "\u001b[0;31mModuleNotFoundError\u001b[0m                       Traceback (most recent call last)",
      "\u001b[0;32m<ipython-input-40-3bca7b9d4a0a>\u001b[0m in \u001b[0;36m<module>\u001b[0;34m\u001b[0m\n\u001b[1;32m      1\u001b[0m \u001b[0;31m#create dtrain for xgboost\u001b[0m\u001b[0;34m\u001b[0m\u001b[0;34m\u001b[0m\u001b[0;34m\u001b[0m\u001b[0m\n\u001b[0;32m----> 2\u001b[0;31m \u001b[0;32mimport\u001b[0m \u001b[0mdask_xgboost\u001b[0m\u001b[0;34m\u001b[0m\u001b[0;34m\u001b[0m\u001b[0m\n\u001b[0m\u001b[1;32m      3\u001b[0m params = {'objective': 'binary:logistic',\n\u001b[1;32m      4\u001b[0m           \u001b[0;34m'max_depth'\u001b[0m\u001b[0;34m:\u001b[0m \u001b[0;36m4\u001b[0m\u001b[0;34m,\u001b[0m \u001b[0;34m'eta'\u001b[0m\u001b[0;34m:\u001b[0m \u001b[0;36m0.01\u001b[0m\u001b[0;34m,\u001b[0m \u001b[0;34m'subsample'\u001b[0m\u001b[0;34m:\u001b[0m \u001b[0;36m0.5\u001b[0m\u001b[0;34m,\u001b[0m\u001b[0;34m\u001b[0m\u001b[0;34m\u001b[0m\u001b[0m\n\u001b[1;32m      5\u001b[0m           'min_child_weight': 0.5}\n",
      "\u001b[0;31mModuleNotFoundError\u001b[0m: No module named 'dask_xgboost'"
     ]
    }
   ],
   "source": [
    "#create dtrain for xgboost\n",
    "import dask_xgboost\n",
    "params = {'objective': 'binary:logistic',\n",
    "          'max_depth': 4, 'eta': 0.01, 'subsample': 0.5,\n",
    "          'min_child_weight': 0.5}\n",
    "bst = dask_xgboost.train(client, params, X, y, num_boost_round=10)\n",
    "\n",
    "#datasets_future = client(client.scatter(datasets))\n",
    "#dtrain_future = client.submit\n",
    "#dtrain_future = client.submit(xgb.dask.DaskDMatrix, X, y)"
   ]
  },
  {
   "cell_type": "code",
   "execution_count": null,
   "metadata": {},
   "outputs": [],
   "source": []
  },
  {
   "cell_type": "code",
   "execution_count": null,
   "metadata": {},
   "outputs": [],
   "source": [
    "import xgboost as xgb\n",
    "def create_dtrain(datasets):\n",
    "    X = datasets[:, 1,:]\n",
    "    y = datasets[:, 0]\n",
    "    dtrain = xgb.dask.DaskDMatrix(client, X, y)\n",
    "    return dtrain"
   ]
  },
  {
   "cell_type": "code",
   "execution_count": 220,
   "metadata": {},
   "outputs": [],
   "source": []
  },
  {
   "cell_type": "code",
   "execution_count": 216,
   "metadata": {},
   "outputs": [
    {
     "ename": "TypeError",
     "evalue": "Expecting <class 'distributed.client.Client'> or <class 'NoneType'>.  Got <class 'dask.array.core.Array'>",
     "output_type": "error",
     "traceback": [
      "\u001b[0;31m---------------------------------------------------------------------------\u001b[0m",
      "\u001b[0;31mTypeError\u001b[0m                                 Traceback (most recent call last)",
      "\u001b[0;32m<ipython-input-216-8c9f5bcfa841>\u001b[0m in \u001b[0;36m<module>\u001b[0;34m\u001b[0m\n\u001b[0;32m----> 1\u001b[0;31m \u001b[0mdtrain_future\u001b[0m\u001b[0;34m.\u001b[0m\u001b[0mresult\u001b[0m\u001b[0;34m(\u001b[0m\u001b[0;34m)\u001b[0m\u001b[0;34m\u001b[0m\u001b[0;34m\u001b[0m\u001b[0m\n\u001b[0m",
      "\u001b[0;32m~/PYTHON/SatelliteNO2/venv/lib/python3.6/site-packages/distributed/client.py\u001b[0m in \u001b[0;36mresult\u001b[0;34m(self, timeout)\u001b[0m\n\u001b[1;32m    222\u001b[0m         \u001b[0;32mif\u001b[0m \u001b[0mself\u001b[0m\u001b[0;34m.\u001b[0m\u001b[0mstatus\u001b[0m \u001b[0;34m==\u001b[0m \u001b[0;34m\"error\"\u001b[0m\u001b[0;34m:\u001b[0m\u001b[0;34m\u001b[0m\u001b[0;34m\u001b[0m\u001b[0m\n\u001b[1;32m    223\u001b[0m             \u001b[0mtyp\u001b[0m\u001b[0;34m,\u001b[0m \u001b[0mexc\u001b[0m\u001b[0;34m,\u001b[0m \u001b[0mtb\u001b[0m \u001b[0;34m=\u001b[0m \u001b[0mresult\u001b[0m\u001b[0;34m\u001b[0m\u001b[0;34m\u001b[0m\u001b[0m\n\u001b[0;32m--> 224\u001b[0;31m             \u001b[0;32mraise\u001b[0m \u001b[0mexc\u001b[0m\u001b[0;34m.\u001b[0m\u001b[0mwith_traceback\u001b[0m\u001b[0;34m(\u001b[0m\u001b[0mtb\u001b[0m\u001b[0;34m)\u001b[0m\u001b[0;34m\u001b[0m\u001b[0;34m\u001b[0m\u001b[0m\n\u001b[0m\u001b[1;32m    225\u001b[0m         \u001b[0;32melif\u001b[0m \u001b[0mself\u001b[0m\u001b[0;34m.\u001b[0m\u001b[0mstatus\u001b[0m \u001b[0;34m==\u001b[0m \u001b[0;34m\"cancelled\"\u001b[0m\u001b[0;34m:\u001b[0m\u001b[0;34m\u001b[0m\u001b[0;34m\u001b[0m\u001b[0m\n\u001b[1;32m    226\u001b[0m             \u001b[0;32mraise\u001b[0m \u001b[0mresult\u001b[0m\u001b[0;34m\u001b[0m\u001b[0;34m\u001b[0m\u001b[0m\n",
      "\u001b[0;32m~/PYTHON/SatelliteNO2/venv/lib/python3.6/site-packages/xgboost/dask.py\u001b[0m in \u001b[0;36m__init__\u001b[0;34m()\u001b[0m\n\u001b[1;32m    204\u001b[0m                  feature_types=None):\n\u001b[1;32m    205\u001b[0m         \u001b[0m_assert_dask_support\u001b[0m\u001b[0;34m(\u001b[0m\u001b[0;34m)\u001b[0m\u001b[0;34m\u001b[0m\u001b[0;34m\u001b[0m\u001b[0m\n\u001b[0;32m--> 206\u001b[0;31m         \u001b[0mclient\u001b[0m\u001b[0;34m:\u001b[0m \u001b[0mdistributed\u001b[0m\u001b[0;34m.\u001b[0m\u001b[0mClient\u001b[0m \u001b[0;34m=\u001b[0m \u001b[0m_xgb_get_client\u001b[0m\u001b[0;34m(\u001b[0m\u001b[0mclient\u001b[0m\u001b[0;34m)\u001b[0m\u001b[0;34m\u001b[0m\u001b[0;34m\u001b[0m\u001b[0m\n\u001b[0m\u001b[1;32m    207\u001b[0m \u001b[0;34m\u001b[0m\u001b[0m\n\u001b[1;32m    208\u001b[0m         \u001b[0mself\u001b[0m\u001b[0;34m.\u001b[0m\u001b[0mfeature_names\u001b[0m \u001b[0;34m=\u001b[0m \u001b[0mfeature_names\u001b[0m\u001b[0;34m\u001b[0m\u001b[0;34m\u001b[0m\u001b[0m\n",
      "\u001b[0;32m~/PYTHON/SatelliteNO2/venv/lib/python3.6/site-packages/xgboost/dask.py\u001b[0m in \u001b[0;36m_xgb_get_client\u001b[0;34m()\u001b[0m\n\u001b[1;32m    140\u001b[0m     \u001b[0;32mif\u001b[0m \u001b[0;32mnot\u001b[0m \u001b[0misinstance\u001b[0m\u001b[0;34m(\u001b[0m\u001b[0mclient\u001b[0m\u001b[0;34m,\u001b[0m \u001b[0;34m(\u001b[0m\u001b[0mtype\u001b[0m\u001b[0;34m(\u001b[0m\u001b[0mdistributed\u001b[0m\u001b[0;34m.\u001b[0m\u001b[0mget_client\u001b[0m\u001b[0;34m(\u001b[0m\u001b[0;34m)\u001b[0m\u001b[0;34m)\u001b[0m\u001b[0;34m,\u001b[0m \u001b[0mtype\u001b[0m\u001b[0;34m(\u001b[0m\u001b[0;32mNone\u001b[0m\u001b[0;34m)\u001b[0m\u001b[0;34m)\u001b[0m\u001b[0;34m)\u001b[0m\u001b[0;34m:\u001b[0m\u001b[0;34m\u001b[0m\u001b[0;34m\u001b[0m\u001b[0m\n\u001b[1;32m    141\u001b[0m         raise TypeError(\n\u001b[0;32m--> 142\u001b[0;31m             _expect([type(distributed.get_client()), type(None)], type(client)))\n\u001b[0m\u001b[1;32m    143\u001b[0m     \u001b[0mret\u001b[0m \u001b[0;34m=\u001b[0m \u001b[0mdistributed\u001b[0m\u001b[0;34m.\u001b[0m\u001b[0mget_client\u001b[0m\u001b[0;34m(\u001b[0m\u001b[0;34m)\u001b[0m \u001b[0;32mif\u001b[0m \u001b[0mclient\u001b[0m \u001b[0;32mis\u001b[0m \u001b[0;32mNone\u001b[0m \u001b[0;32melse\u001b[0m \u001b[0mclient\u001b[0m\u001b[0;34m\u001b[0m\u001b[0;34m\u001b[0m\u001b[0m\n\u001b[1;32m    144\u001b[0m     \u001b[0;32mreturn\u001b[0m \u001b[0mret\u001b[0m\u001b[0;34m\u001b[0m\u001b[0;34m\u001b[0m\u001b[0m\n",
      "\u001b[0;31mTypeError\u001b[0m: Expecting <class 'distributed.client.Client'> or <class 'NoneType'>.  Got <class 'dask.array.core.Array'>"
     ]
    }
   ],
   "source": [
    "dtrain_future.result()"
   ]
  },
  {
   "cell_type": "code",
   "execution_count": 177,
   "metadata": {},
   "outputs": [
    {
     "data": {
      "text/html": [
       "<table>\n",
       "<tr>\n",
       "<td>\n",
       "<table>\n",
       "  <thead>\n",
       "    <tr><td> </td><th> Array </th><th> Chunk </th></tr>\n",
       "  </thead>\n",
       "  <tbody>\n",
       "    <tr><th> Bytes </th><td> 9.30 GB </td> <td> 186.06 MB </td></tr>\n",
       "    <tr><th> Shape </th><td> (25, 46516000) </td> <td> (1, 23258000) </td></tr>\n",
       "    <tr><th> Count </th><td> 306 Tasks </td><td> 50 Chunks </td></tr>\n",
       "    <tr><th> Type </th><td> float64 </td><td> numpy.ndarray </td></tr>\n",
       "  </tbody>\n",
       "</table>\n",
       "</td>\n",
       "<td>\n",
       "<svg width=\"170\" height=\"75\" style=\"stroke:rgb(0,0,0);stroke-width:1\" >\n",
       "\n",
       "  <!-- Horizontal lines -->\n",
       "  <line x1=\"0\" y1=\"0\" x2=\"120\" y2=\"0\" style=\"stroke-width:2\" />\n",
       "  <line x1=\"0\" y1=\"1\" x2=\"120\" y2=\"1\" />\n",
       "  <line x1=\"0\" y1=\"2\" x2=\"120\" y2=\"2\" />\n",
       "  <line x1=\"0\" y1=\"3\" x2=\"120\" y2=\"3\" />\n",
       "  <line x1=\"0\" y1=\"5\" x2=\"120\" y2=\"5\" />\n",
       "  <line x1=\"0\" y1=\"6\" x2=\"120\" y2=\"6\" />\n",
       "  <line x1=\"0\" y1=\"7\" x2=\"120\" y2=\"7\" />\n",
       "  <line x1=\"0\" y1=\"9\" x2=\"120\" y2=\"9\" />\n",
       "  <line x1=\"0\" y1=\"10\" x2=\"120\" y2=\"10\" />\n",
       "  <line x1=\"0\" y1=\"11\" x2=\"120\" y2=\"11\" />\n",
       "  <line x1=\"0\" y1=\"13\" x2=\"120\" y2=\"13\" />\n",
       "  <line x1=\"0\" y1=\"14\" x2=\"120\" y2=\"14\" />\n",
       "  <line x1=\"0\" y1=\"15\" x2=\"120\" y2=\"15\" />\n",
       "  <line x1=\"0\" y1=\"17\" x2=\"120\" y2=\"17\" />\n",
       "  <line x1=\"0\" y1=\"18\" x2=\"120\" y2=\"18\" />\n",
       "  <line x1=\"0\" y1=\"19\" x2=\"120\" y2=\"19\" />\n",
       "  <line x1=\"0\" y1=\"21\" x2=\"120\" y2=\"21\" />\n",
       "  <line x1=\"0\" y1=\"22\" x2=\"120\" y2=\"22\" />\n",
       "  <line x1=\"0\" y1=\"23\" x2=\"120\" y2=\"23\" />\n",
       "  <line x1=\"0\" y1=\"25\" x2=\"120\" y2=\"25\" style=\"stroke-width:2\" />\n",
       "\n",
       "  <!-- Vertical lines -->\n",
       "  <line x1=\"0\" y1=\"0\" x2=\"0\" y2=\"25\" style=\"stroke-width:2\" />\n",
       "  <line x1=\"60\" y1=\"0\" x2=\"60\" y2=\"25\" />\n",
       "  <line x1=\"120\" y1=\"0\" x2=\"120\" y2=\"25\" style=\"stroke-width:2\" />\n",
       "\n",
       "  <!-- Colored Rectangle -->\n",
       "  <polygon points=\"0.0,0.0 120.0,0.0 120.0,25.41261651458249 0.0,25.41261651458249\" style=\"fill:#8B4903A0;stroke-width:0\"/>\n",
       "\n",
       "  <!-- Text -->\n",
       "  <text x=\"60.000000\" y=\"45.412617\" font-size=\"1.0rem\" font-weight=\"100\" text-anchor=\"middle\" >46516000</text>\n",
       "  <text x=\"140.000000\" y=\"12.706308\" font-size=\"1.0rem\" font-weight=\"100\" text-anchor=\"middle\" transform=\"rotate(0,140.000000,12.706308)\">25</text>\n",
       "</svg>\n",
       "</td>\n",
       "</tr>\n",
       "</table>"
      ],
      "text/plain": [
       "dask.array<stack, shape=(25, 46516000), dtype=float64, chunksize=(1, 23258000), chunktype=numpy.ndarray>"
      ]
     },
     "execution_count": 177,
     "metadata": {},
     "output_type": "execute_result"
    }
   ],
   "source": [
    "anthroemis_future.result()"
   ]
  },
  {
   "cell_type": "code",
   "execution_count": 168,
   "metadata": {},
   "outputs": [
    {
     "data": {
      "text/html": [
       "<b>Future: read_2d_var_from_file_xr</b> <font color=\"gray\">status: </font><font color=\"black\">pending</font>, <font color=\"gray\">key: </font>read_2d_var_from_file_xr-74b0c2381f36b9344e1ac5f6dd365148"
      ],
      "text/plain": [
       "<Future: pending, key: read_2d_var_from_file_xr-74b0c2381f36b9344e1ac5f6dd365148>"
      ]
     },
     "execution_count": 168,
     "metadata": {},
     "output_type": "execute_result"
    }
   ],
   "source": [
    "varnames_2d = ['COSZEN', 'PBLH', 'LAI', 'HGT', 'SWDOWN', 'GLW']\n",
    "futures_2d = []\n",
    "for varname in varnames_2d:\n",
    "    future_2d = client.submit(read_2d_var_from_file_xr, filename, varname)\n",
    "    futures_2d.append(future_2d)\n",
    "future_2d"
   ]
  },
  {
   "cell_type": "code",
   "execution_count": 170,
   "metadata": {},
   "outputs": [
    {
     "data": {
      "text/html": [
       "<table>\n",
       "<tr>\n",
       "<td>\n",
       "<table>\n",
       "  <thead>\n",
       "    <tr><td> </td><th> Array </th><th> Chunk </th></tr>\n",
       "  </thead>\n",
       "  <tbody>\n",
       "    <tr><th> Bytes </th><td> 372.13 MB </td> <td> 372.13 MB </td></tr>\n",
       "    <tr><th> Shape </th><td> (46516000,) </td> <td> (46516000,) </td></tr>\n",
       "    <tr><th> Count </th><td> 6 Tasks </td><td> 1 Chunks </td></tr>\n",
       "    <tr><th> Type </th><td> float64 </td><td> numpy.ndarray </td></tr>\n",
       "  </tbody>\n",
       "</table>\n",
       "</td>\n",
       "<td>\n",
       "<svg width=\"170\" height=\"75\" style=\"stroke:rgb(0,0,0);stroke-width:1\" >\n",
       "\n",
       "  <!-- Horizontal lines -->\n",
       "  <line x1=\"0\" y1=\"0\" x2=\"120\" y2=\"0\" style=\"stroke-width:2\" />\n",
       "  <line x1=\"0\" y1=\"25\" x2=\"120\" y2=\"25\" style=\"stroke-width:2\" />\n",
       "\n",
       "  <!-- Vertical lines -->\n",
       "  <line x1=\"0\" y1=\"0\" x2=\"0\" y2=\"25\" style=\"stroke-width:2\" />\n",
       "  <line x1=\"120\" y1=\"0\" x2=\"120\" y2=\"25\" style=\"stroke-width:2\" />\n",
       "\n",
       "  <!-- Colored Rectangle -->\n",
       "  <polygon points=\"0.0,0.0 120.0,0.0 120.0,25.412616514582485 0.0,25.412616514582485\" style=\"fill:#ECB172A0;stroke-width:0\"/>\n",
       "\n",
       "  <!-- Text -->\n",
       "  <text x=\"60.000000\" y=\"45.412617\" font-size=\"1.0rem\" font-weight=\"100\" text-anchor=\"middle\" >46516000</text>\n",
       "  <text x=\"140.000000\" y=\"12.706308\" font-size=\"1.0rem\" font-weight=\"100\" text-anchor=\"middle\" transform=\"rotate(0,140.000000,12.706308)\">1</text>\n",
       "</svg>\n",
       "</td>\n",
       "</tr>\n",
       "</table>"
      ],
      "text/plain": [
       "dask.array<reshape, shape=(46516000,), dtype=float64, chunksize=(46516000,), chunktype=numpy.ndarray>"
      ]
     },
     "execution_count": 170,
     "metadata": {},
     "output_type": "execute_result"
    }
   ],
   "source": [
    "futures_2d[0].result()"
   ]
  },
  {
   "cell_type": "code",
   "execution_count": 155,
   "metadata": {},
   "outputs": [],
   "source": [
    "\n",
    "    \n",
    "lightning_future = client.submit(read_lightning_from_file_xr, filename)"
   ]
  },
  {
   "cell_type": "code",
   "execution_count": 156,
   "metadata": {},
   "outputs": [
    {
     "data": {
      "text/html": [
       "<table>\n",
       "<tr>\n",
       "<td>\n",
       "<table>\n",
       "  <thead>\n",
       "    <tr><td> </td><th> Array </th><th> Chunk </th></tr>\n",
       "  </thead>\n",
       "  <tbody>\n",
       "    <tr><th> Bytes </th><td> 372.13 MB </td> <td> 372.13 MB </td></tr>\n",
       "    <tr><th> Shape </th><td> (46516000,) </td> <td> (46516000,) </td></tr>\n",
       "    <tr><th> Count </th><td> 5 Tasks </td><td> 1 Chunks </td></tr>\n",
       "    <tr><th> Type </th><td> float64 </td><td> numpy.ndarray </td></tr>\n",
       "  </tbody>\n",
       "</table>\n",
       "</td>\n",
       "<td>\n",
       "<svg width=\"170\" height=\"75\" style=\"stroke:rgb(0,0,0);stroke-width:1\" >\n",
       "\n",
       "  <!-- Horizontal lines -->\n",
       "  <line x1=\"0\" y1=\"0\" x2=\"120\" y2=\"0\" style=\"stroke-width:2\" />\n",
       "  <line x1=\"0\" y1=\"25\" x2=\"120\" y2=\"25\" style=\"stroke-width:2\" />\n",
       "\n",
       "  <!-- Vertical lines -->\n",
       "  <line x1=\"0\" y1=\"0\" x2=\"0\" y2=\"25\" style=\"stroke-width:2\" />\n",
       "  <line x1=\"120\" y1=\"0\" x2=\"120\" y2=\"25\" style=\"stroke-width:2\" />\n",
       "\n",
       "  <!-- Colored Rectangle -->\n",
       "  <polygon points=\"0.0,0.0 120.0,0.0 120.0,25.412616514582485 0.0,25.412616514582485\" style=\"fill:#ECB172A0;stroke-width:0\"/>\n",
       "\n",
       "  <!-- Text -->\n",
       "  <text x=\"60.000000\" y=\"45.412617\" font-size=\"1.0rem\" font-weight=\"100\" text-anchor=\"middle\" >46516000</text>\n",
       "  <text x=\"140.000000\" y=\"12.706308\" font-size=\"1.0rem\" font-weight=\"100\" text-anchor=\"middle\" transform=\"rotate(0,140.000000,12.706308)\">1</text>\n",
       "</svg>\n",
       "</td>\n",
       "</tr>\n",
       "</table>"
      ],
      "text/plain": [
       "dask.array<reshape, shape=(46516000,), dtype=float64, chunksize=(46516000,), chunktype=numpy.ndarray>"
      ]
     },
     "execution_count": 156,
     "metadata": {},
     "output_type": "execute_result"
    }
   ],
   "source": [
    "futures[-1].result()"
   ]
  },
  {
   "cell_type": "code",
   "execution_count": 163,
   "metadata": {},
   "outputs": [
    {
     "data": {
      "text/html": [
       "<table>\n",
       "<tr>\n",
       "<td>\n",
       "<table>\n",
       "  <thead>\n",
       "    <tr><td> </td><th> Array </th><th> Chunk </th></tr>\n",
       "  </thead>\n",
       "  <tbody>\n",
       "    <tr><th> Bytes </th><td> 11.16 GB </td> <td> 372.13 MB </td></tr>\n",
       "    <tr><th> Shape </th><td> (46516000, 30) </td> <td> (46516000, 1) </td></tr>\n",
       "    <tr><th> Count </th><td> 158 Tasks </td><td> 30 Chunks </td></tr>\n",
       "    <tr><th> Type </th><td> float64 </td><td> numpy.ndarray </td></tr>\n",
       "  </tbody>\n",
       "</table>\n",
       "</td>\n",
       "<td>\n",
       "<svg width=\"75\" height=\"170\" style=\"stroke:rgb(0,0,0);stroke-width:1\" >\n",
       "\n",
       "  <!-- Horizontal lines -->\n",
       "  <line x1=\"0\" y1=\"0\" x2=\"25\" y2=\"0\" style=\"stroke-width:2\" />\n",
       "  <line x1=\"0\" y1=\"120\" x2=\"25\" y2=\"120\" style=\"stroke-width:2\" />\n",
       "\n",
       "  <!-- Vertical lines -->\n",
       "  <line x1=\"0\" y1=\"0\" x2=\"0\" y2=\"120\" style=\"stroke-width:2\" />\n",
       "  <line x1=\"0\" y1=\"0\" x2=\"0\" y2=\"120\" />\n",
       "  <line x1=\"2\" y1=\"0\" x2=\"2\" y2=\"120\" />\n",
       "  <line x1=\"3\" y1=\"0\" x2=\"3\" y2=\"120\" />\n",
       "  <line x1=\"5\" y1=\"0\" x2=\"5\" y2=\"120\" />\n",
       "  <line x1=\"5\" y1=\"0\" x2=\"5\" y2=\"120\" />\n",
       "  <line x1=\"7\" y1=\"0\" x2=\"7\" y2=\"120\" />\n",
       "  <line x1=\"9\" y1=\"0\" x2=\"9\" y2=\"120\" />\n",
       "  <line x1=\"10\" y1=\"0\" x2=\"10\" y2=\"120\" />\n",
       "  <line x1=\"11\" y1=\"0\" x2=\"11\" y2=\"120\" />\n",
       "  <line x1=\"12\" y1=\"0\" x2=\"12\" y2=\"120\" />\n",
       "  <line x1=\"14\" y1=\"0\" x2=\"14\" y2=\"120\" />\n",
       "  <line x1=\"15\" y1=\"0\" x2=\"15\" y2=\"120\" />\n",
       "  <line x1=\"16\" y1=\"0\" x2=\"16\" y2=\"120\" />\n",
       "  <line x1=\"18\" y1=\"0\" x2=\"18\" y2=\"120\" />\n",
       "  <line x1=\"19\" y1=\"0\" x2=\"19\" y2=\"120\" />\n",
       "  <line x1=\"21\" y1=\"0\" x2=\"21\" y2=\"120\" />\n",
       "  <line x1=\"22\" y1=\"0\" x2=\"22\" y2=\"120\" />\n",
       "  <line x1=\"23\" y1=\"0\" x2=\"23\" y2=\"120\" />\n",
       "  <line x1=\"25\" y1=\"0\" x2=\"25\" y2=\"120\" style=\"stroke-width:2\" />\n",
       "\n",
       "  <!-- Colored Rectangle -->\n",
       "  <polygon points=\"0.0,0.0 25.412616514582485,0.0 25.412616514582485,120.0 0.0,120.0\" style=\"fill:#8B4903A0;stroke-width:0\"/>\n",
       "\n",
       "  <!-- Text -->\n",
       "  <text x=\"12.706308\" y=\"140.000000\" font-size=\"1.0rem\" font-weight=\"100\" text-anchor=\"middle\" >30</text>\n",
       "  <text x=\"45.412617\" y=\"60.000000\" font-size=\"1.0rem\" font-weight=\"100\" text-anchor=\"middle\" transform=\"rotate(-90,45.412617,60.000000)\">46516000</text>\n",
       "</svg>\n",
       "</td>\n",
       "</tr>\n",
       "</table>"
      ],
      "text/plain": [
       "dask.array<concatenate, shape=(46516000, 30), dtype=float64, chunksize=(46516000, 1), chunktype=numpy.ndarray>"
      ]
     },
     "execution_count": 163,
     "metadata": {},
     "output_type": "execute_result"
    }
   ],
   "source": [
    "feature_v1 = da.transpose(da.stack([future.result() for future in futures]))\n",
    "np.concatenate((feature_v1,lightning_future.result()),axis=1)"
   ]
  },
  {
   "cell_type": "code",
   "execution_count": 86,
   "metadata": {},
   "outputs": [],
   "source": [
    "feature = client.submit(concatenate_features, futures)"
   ]
  },
  {
   "cell_type": "code",
   "execution_count": 88,
   "metadata": {},
   "outputs": [
    {
     "ename": "AttributeError",
     "evalue": "'Array' object has no attribute 'result'",
     "output_type": "error",
     "traceback": [
      "\u001b[0;31m---------------------------------------------------------------------------\u001b[0m",
      "\u001b[0;31mAttributeError\u001b[0m                            Traceback (most recent call last)",
      "\u001b[0;32m<ipython-input-88-2e00204d98ba>\u001b[0m in \u001b[0;36m<module>\u001b[0;34m\u001b[0m\n\u001b[0;32m----> 1\u001b[0;31m \u001b[0mfeature\u001b[0m\u001b[0;34m.\u001b[0m\u001b[0mresult\u001b[0m\u001b[0;34m(\u001b[0m\u001b[0;34m)\u001b[0m\u001b[0;34m\u001b[0m\u001b[0;34m\u001b[0m\u001b[0m\n\u001b[0m",
      "\u001b[0;32m~/PYTHON/SatelliteNO2/venv/lib/python3.6/site-packages/distributed/client.py\u001b[0m in \u001b[0;36mresult\u001b[0;34m(self, timeout)\u001b[0m\n\u001b[1;32m    222\u001b[0m         \u001b[0;32mif\u001b[0m \u001b[0mself\u001b[0m\u001b[0;34m.\u001b[0m\u001b[0mstatus\u001b[0m \u001b[0;34m==\u001b[0m \u001b[0;34m\"error\"\u001b[0m\u001b[0;34m:\u001b[0m\u001b[0;34m\u001b[0m\u001b[0;34m\u001b[0m\u001b[0m\n\u001b[1;32m    223\u001b[0m             \u001b[0mtyp\u001b[0m\u001b[0;34m,\u001b[0m \u001b[0mexc\u001b[0m\u001b[0;34m,\u001b[0m \u001b[0mtb\u001b[0m \u001b[0;34m=\u001b[0m \u001b[0mresult\u001b[0m\u001b[0;34m\u001b[0m\u001b[0;34m\u001b[0m\u001b[0m\n\u001b[0;32m--> 224\u001b[0;31m             \u001b[0;32mraise\u001b[0m \u001b[0mexc\u001b[0m\u001b[0;34m.\u001b[0m\u001b[0mwith_traceback\u001b[0m\u001b[0;34m(\u001b[0m\u001b[0mtb\u001b[0m\u001b[0;34m)\u001b[0m\u001b[0;34m\u001b[0m\u001b[0;34m\u001b[0m\u001b[0m\n\u001b[0m\u001b[1;32m    225\u001b[0m         \u001b[0;32melif\u001b[0m \u001b[0mself\u001b[0m\u001b[0;34m.\u001b[0m\u001b[0mstatus\u001b[0m \u001b[0;34m==\u001b[0m \u001b[0;34m\"cancelled\"\u001b[0m\u001b[0;34m:\u001b[0m\u001b[0;34m\u001b[0m\u001b[0;34m\u001b[0m\u001b[0m\n\u001b[1;32m    226\u001b[0m             \u001b[0;32mraise\u001b[0m \u001b[0mresult\u001b[0m\u001b[0;34m\u001b[0m\u001b[0;34m\u001b[0m\u001b[0m\n",
      "\u001b[0;32m<ipython-input-85-52833b9cc972>\u001b[0m in \u001b[0;36mconcatenate_features\u001b[0;34m()\u001b[0m\n\u001b[1;32m      1\u001b[0m \u001b[0;32mdef\u001b[0m \u001b[0mconcatenate_features\u001b[0m\u001b[0;34m(\u001b[0m\u001b[0mfutures\u001b[0m\u001b[0;34m)\u001b[0m\u001b[0;34m:\u001b[0m\u001b[0;34m\u001b[0m\u001b[0;34m\u001b[0m\u001b[0m\n\u001b[0;32m----> 2\u001b[0;31m     \u001b[0mfeatures\u001b[0m \u001b[0;34m=\u001b[0m \u001b[0mda\u001b[0m\u001b[0;34m.\u001b[0m\u001b[0mtranspose\u001b[0m\u001b[0;34m(\u001b[0m\u001b[0mda\u001b[0m\u001b[0;34m.\u001b[0m\u001b[0mstack\u001b[0m\u001b[0;34m(\u001b[0m\u001b[0;34m[\u001b[0m\u001b[0mfuture\u001b[0m\u001b[0;34m.\u001b[0m\u001b[0mresult\u001b[0m\u001b[0;34m(\u001b[0m\u001b[0;34m)\u001b[0m \u001b[0;32mfor\u001b[0m \u001b[0mfuture\u001b[0m \u001b[0;32min\u001b[0m \u001b[0mfutures\u001b[0m\u001b[0;34m]\u001b[0m\u001b[0;34m)\u001b[0m\u001b[0;34m)\u001b[0m\u001b[0;34m\u001b[0m\u001b[0;34m\u001b[0m\u001b[0m\n\u001b[0m\u001b[1;32m      3\u001b[0m     \u001b[0;32mreturn\u001b[0m \u001b[0mfeatures\u001b[0m\u001b[0;34m\u001b[0m\u001b[0;34m\u001b[0m\u001b[0m\n",
      "\u001b[0;32m<ipython-input-85-52833b9cc972>\u001b[0m in \u001b[0;36m<listcomp>\u001b[0;34m()\u001b[0m\n\u001b[1;32m      1\u001b[0m \u001b[0;32mdef\u001b[0m \u001b[0mconcatenate_features\u001b[0m\u001b[0;34m(\u001b[0m\u001b[0mfutures\u001b[0m\u001b[0;34m)\u001b[0m\u001b[0;34m:\u001b[0m\u001b[0;34m\u001b[0m\u001b[0;34m\u001b[0m\u001b[0m\n\u001b[0;32m----> 2\u001b[0;31m     \u001b[0mfeatures\u001b[0m \u001b[0;34m=\u001b[0m \u001b[0mda\u001b[0m\u001b[0;34m.\u001b[0m\u001b[0mtranspose\u001b[0m\u001b[0;34m(\u001b[0m\u001b[0mda\u001b[0m\u001b[0;34m.\u001b[0m\u001b[0mstack\u001b[0m\u001b[0;34m(\u001b[0m\u001b[0;34m[\u001b[0m\u001b[0mfuture\u001b[0m\u001b[0;34m.\u001b[0m\u001b[0mresult\u001b[0m\u001b[0;34m(\u001b[0m\u001b[0;34m)\u001b[0m \u001b[0;32mfor\u001b[0m \u001b[0mfuture\u001b[0m \u001b[0;32min\u001b[0m \u001b[0mfutures\u001b[0m\u001b[0;34m]\u001b[0m\u001b[0;34m)\u001b[0m\u001b[0;34m)\u001b[0m\u001b[0;34m\u001b[0m\u001b[0;34m\u001b[0m\u001b[0m\n\u001b[0m\u001b[1;32m      3\u001b[0m     \u001b[0;32mreturn\u001b[0m \u001b[0mfeatures\u001b[0m\u001b[0;34m\u001b[0m\u001b[0;34m\u001b[0m\u001b[0m\n",
      "\u001b[0;31mAttributeError\u001b[0m: 'Array' object has no attribute 'result'"
     ]
    }
   ],
   "source": [
    "feature.result()"
   ]
  },
  {
   "cell_type": "code",
   "execution_count": 77,
   "metadata": {},
   "outputs": [
    {
     "data": {
      "text/html": [
       "<table>\n",
       "<tr>\n",
       "<td>\n",
       "<table>\n",
       "  <thead>\n",
       "    <tr><td> </td><th> Array </th><th> Chunk </th></tr>\n",
       "  </thead>\n",
       "  <tbody>\n",
       "    <tr><th> Bytes </th><td> 1.49 GB </td> <td> 93.03 MB </td></tr>\n",
       "    <tr><th> Shape </th><td> (46516000, 4) </td> <td> (11629000, 1) </td></tr>\n",
       "    <tr><th> Count </th><td> 53 Tasks </td><td> 16 Chunks </td></tr>\n",
       "    <tr><th> Type </th><td> float64 </td><td> numpy.ndarray </td></tr>\n",
       "  </tbody>\n",
       "</table>\n",
       "</td>\n",
       "<td>\n",
       "<svg width=\"75\" height=\"170\" style=\"stroke:rgb(0,0,0);stroke-width:1\" >\n",
       "\n",
       "  <!-- Horizontal lines -->\n",
       "  <line x1=\"0\" y1=\"0\" x2=\"25\" y2=\"0\" style=\"stroke-width:2\" />\n",
       "  <line x1=\"0\" y1=\"30\" x2=\"25\" y2=\"30\" />\n",
       "  <line x1=\"0\" y1=\"60\" x2=\"25\" y2=\"60\" />\n",
       "  <line x1=\"0\" y1=\"90\" x2=\"25\" y2=\"90\" />\n",
       "  <line x1=\"0\" y1=\"120\" x2=\"25\" y2=\"120\" style=\"stroke-width:2\" />\n",
       "\n",
       "  <!-- Vertical lines -->\n",
       "  <line x1=\"0\" y1=\"0\" x2=\"0\" y2=\"120\" style=\"stroke-width:2\" />\n",
       "  <line x1=\"6\" y1=\"0\" x2=\"6\" y2=\"120\" />\n",
       "  <line x1=\"12\" y1=\"0\" x2=\"12\" y2=\"120\" />\n",
       "  <line x1=\"19\" y1=\"0\" x2=\"19\" y2=\"120\" />\n",
       "  <line x1=\"25\" y1=\"0\" x2=\"25\" y2=\"120\" style=\"stroke-width:2\" />\n",
       "\n",
       "  <!-- Colored Rectangle -->\n",
       "  <polygon points=\"0.0,0.0 25.412616514582485,0.0 25.412616514582485,120.0 0.0,120.0\" style=\"fill:#ECB172A0;stroke-width:0\"/>\n",
       "\n",
       "  <!-- Text -->\n",
       "  <text x=\"12.706308\" y=\"140.000000\" font-size=\"1.0rem\" font-weight=\"100\" text-anchor=\"middle\" >4</text>\n",
       "  <text x=\"45.412617\" y=\"60.000000\" font-size=\"1.0rem\" font-weight=\"100\" text-anchor=\"middle\" transform=\"rotate(-90,45.412617,60.000000)\">46516000</text>\n",
       "</svg>\n",
       "</td>\n",
       "</tr>\n",
       "</table>"
      ],
      "text/plain": [
       "dask.array<transpose, shape=(46516000, 4), dtype=float64, chunksize=(11629000, 1), chunktype=numpy.ndarray>"
      ]
     },
     "execution_count": 77,
     "metadata": {},
     "output_type": "execute_result"
    }
   ],
   "source": [
    "features"
   ]
  },
  {
   "cell_type": "code",
   "execution_count": 76,
   "metadata": {},
   "outputs": [],
   "source": [
    "for future in futures:\n",
    "    del future"
   ]
  },
  {
   "cell_type": "code",
   "execution_count": 29,
   "metadata": {
    "scrolled": true
   },
   "outputs": [
    {
     "name": "stdout",
     "output_type": "stream",
     "text": [
      "Reading in data from /global/home/users/qindan_zhu/myscratch/jlgrant/ML-WRF/ML-WRF/met_conus_2005_002\n",
      "Reading in data from /global/home/users/qindan_zhu/myscratch/jlgrant/ML-WRF/ML-WRF/met_conus_2005_003\n",
      "Reading in data from /global/home/users/qindan_zhu/myscratch/jlgrant/ML-WRF/ML-WRF/met_conus_2005_005\n",
      "Reading in data from /global/home/users/qindan_zhu/myscratch/jlgrant/ML-WRF/ML-WRF/met_conus_2005_004\n",
      "Reading in data from /global/home/users/qindan_zhu/myscratch/jlgrant/ML-WRF/ML-WRF/met_conus_2005_001\n",
      "--- 0.25605957508087157 minutes ---\n"
     ]
    }
   ],
   "source": [
    "#to do: surrounding lightning and vertical distribution of lightnings haven't been implemented yet\n",
    "import time\n",
    "orig_filenames = sorted(glob(os.path.join(orig_file_path, 'met_conus*')))\n",
    "orig_filenames = orig_filenames[0:5]\n",
    "train_filenames, test_filenames = train_test_filename(orig_filenames)\n",
    "x_total = []\n",
    "y_total = []\n",
    "add_total= []\n",
    "starttime = time.time()\n",
    "for train_filename in train_filenames:\n",
    "    print('Reading in data from {}'.format(train_filename))\n",
    "    additional_arr, x_arr, y_arr, x_labels, additional_features = read_orig_file_from_wrf(train_filename)\n",
    "    add_total.append(additional_arr)\n",
    "    x_total.append(x_arr)\n",
    "    y_total.append(y_arr)\n",
    "print(\"--- {} minutes ---\".format((time.time() - starttime)/60))"
   ]
  },
  {
   "cell_type": "code",
   "execution_count": null,
   "metadata": {},
   "outputs": [],
   "source": [
    "future = client.compute(x_total)\n",
    "client.close()"
   ]
  },
  {
   "cell_type": "code",
   "execution_count": null,
   "metadata": {},
   "outputs": [],
   "source": [
    "future[0].result()"
   ]
  },
  {
   "cell_type": "code",
   "execution_count": null,
   "metadata": {},
   "outputs": [],
   "source": [
    "#prepare matrix for ml\n",
    "import xgboost as xgb\n",
    "starttime = time.time()\n",
    "dtrain = xgb.dask.DaskDMatrix(client, da.array(x_total), da.array(y_total))\n",
    "print(\"--- {} minutes ---\".format((time.time() - starttime)/60))"
   ]
  },
  {
   "cell_type": "code",
   "execution_count": null,
   "metadata": {},
   "outputs": [],
   "source": [
    "client()"
   ]
  },
  {
   "cell_type": "code",
   "execution_count": 5,
   "metadata": {},
   "outputs": [],
   "source": [
    "#create a file saving the index of target cells\n",
    "create_index_list_for_target_cells()"
   ]
  },
  {
   "cell_type": "code",
   "execution_count": 3,
   "metadata": {},
   "outputs": [
    {
     "name": "stdout",
     "output_type": "stream",
     "text": [
      "Make surrouding cells for cell lat 0\n",
      "Make surrouding cells for cell lat 1\n",
      "Make surrouding cells for cell lat 2\n",
      "Make surrouding cells for cell lat 3\n",
      "Make surrouding cells for cell lat 4\n",
      "Make surrouding cells for cell lat 5\n",
      "Make surrouding cells for cell lat 6\n",
      "Make surrouding cells for cell lat 7\n",
      "Make surrouding cells for cell lat 8\n",
      "Make surrouding cells for cell lat 9\n",
      "Make surrouding cells for cell lat 10\n",
      "Make surrouding cells for cell lat 11\n",
      "Make surrouding cells for cell lat 12\n",
      "Make surrouding cells for cell lat 13\n",
      "Make surrouding cells for cell lat 14\n",
      "Make surrouding cells for cell lat 15\n",
      "Make surrouding cells for cell lat 16\n",
      "Make surrouding cells for cell lat 17\n",
      "Make surrouding cells for cell lat 18\n",
      "Make surrouding cells for cell lat 19\n",
      "Make surrouding cells for cell lat 20\n",
      "Make surrouding cells for cell lat 21\n",
      "Make surrouding cells for cell lat 22\n",
      "Make surrouding cells for cell lat 23\n",
      "Make surrouding cells for cell lat 24\n",
      "Make surrouding cells for cell lat 25\n",
      "Make surrouding cells for cell lat 26\n",
      "Make surrouding cells for cell lat 27\n",
      "Make surrouding cells for cell lat 28\n",
      "Make surrouding cells for cell lat 29\n",
      "Make surrouding cells for cell lat 30\n",
      "Make surrouding cells for cell lat 31\n",
      "Make surrouding cells for cell lat 32\n",
      "Make surrouding cells for cell lat 33\n",
      "Make surrouding cells for cell lat 34\n",
      "Make surrouding cells for cell lat 35\n",
      "Make surrouding cells for cell lat 36\n",
      "Make surrouding cells for cell lat 37\n",
      "Make surrouding cells for cell lat 38\n",
      "Make surrouding cells for cell lat 39\n",
      "Make surrouding cells for cell lat 40\n",
      "Make surrouding cells for cell lat 41\n",
      "Make surrouding cells for cell lat 42\n",
      "Make surrouding cells for cell lat 43\n",
      "Make surrouding cells for cell lat 44\n",
      "Make surrouding cells for cell lat 45\n",
      "Make surrouding cells for cell lat 46\n",
      "Make surrouding cells for cell lat 47\n",
      "Make surrouding cells for cell lat 48\n",
      "Make surrouding cells for cell lat 49\n",
      "Make surrouding cells for cell lat 50\n",
      "Make surrouding cells for cell lat 51\n",
      "Make surrouding cells for cell lat 52\n",
      "Make surrouding cells for cell lat 53\n",
      "Make surrouding cells for cell lat 54\n",
      "Make surrouding cells for cell lat 55\n",
      "Make surrouding cells for cell lat 56\n",
      "Make surrouding cells for cell lat 57\n",
      "Make surrouding cells for cell lat 58\n",
      "Make surrouding cells for cell lat 59\n",
      "Make surrouding cells for cell lat 60\n",
      "Make surrouding cells for cell lat 61\n",
      "Make surrouding cells for cell lat 62\n",
      "Make surrouding cells for cell lat 63\n",
      "Make surrouding cells for cell lat 64\n",
      "Make surrouding cells for cell lat 65\n",
      "Make surrouding cells for cell lat 66\n",
      "Make surrouding cells for cell lat 67\n",
      "Make surrouding cells for cell lat 68\n",
      "Make surrouding cells for cell lat 69\n",
      "Make surrouding cells for cell lat 70\n",
      "Make surrouding cells for cell lat 71\n",
      "Make surrouding cells for cell lat 72\n",
      "Make surrouding cells for cell lat 73\n",
      "Make surrouding cells for cell lat 74\n",
      "Make surrouding cells for cell lat 75\n",
      "Make surrouding cells for cell lat 76\n",
      "Make surrouding cells for cell lat 77\n",
      "Make surrouding cells for cell lat 78\n",
      "Make surrouding cells for cell lat 79\n",
      "Make surrouding cells for cell lat 80\n",
      "Make surrouding cells for cell lat 81\n",
      "Make surrouding cells for cell lat 82\n",
      "Make surrouding cells for cell lat 83\n",
      "Make surrouding cells for cell lat 84\n",
      "Make surrouding cells for cell lat 85\n",
      "Make surrouding cells for cell lat 86\n",
      "Make surrouding cells for cell lat 87\n",
      "Make surrouding cells for cell lat 88\n",
      "Make surrouding cells for cell lat 89\n",
      "Make surrouding cells for cell lat 90\n",
      "Make surrouding cells for cell lat 91\n",
      "Make surrouding cells for cell lat 92\n",
      "Make surrouding cells for cell lat 93\n",
      "Make surrouding cells for cell lat 94\n",
      "Make surrouding cells for cell lat 95\n",
      "Make surrouding cells for cell lat 96\n",
      "Make surrouding cells for cell lat 97\n",
      "Make surrouding cells for cell lat 98\n",
      "Make surrouding cells for cell lat 99\n",
      "Make surrouding cells for cell lat 100\n",
      "Make surrouding cells for cell lat 101\n",
      "Make surrouding cells for cell lat 102\n",
      "Make surrouding cells for cell lat 103\n",
      "Make surrouding cells for cell lat 104\n",
      "Make surrouding cells for cell lat 105\n",
      "Make surrouding cells for cell lat 106\n",
      "Make surrouding cells for cell lat 107\n",
      "Make surrouding cells for cell lat 108\n",
      "Make surrouding cells for cell lat 109\n",
      "Make surrouding cells for cell lat 110\n",
      "Make surrouding cells for cell lat 111\n",
      "Make surrouding cells for cell lat 112\n",
      "Make surrouding cells for cell lat 113\n",
      "Make surrouding cells for cell lat 114\n",
      "Make surrouding cells for cell lat 115\n",
      "Make surrouding cells for cell lat 116\n",
      "Make surrouding cells for cell lat 117\n",
      "Make surrouding cells for cell lat 118\n",
      "Make surrouding cells for cell lat 119\n",
      "Make surrouding cells for cell lat 120\n",
      "Make surrouding cells for cell lat 121\n",
      "Make surrouding cells for cell lat 122\n",
      "Make surrouding cells for cell lat 123\n",
      "Make surrouding cells for cell lat 124\n",
      "Make surrouding cells for cell lat 125\n",
      "Make surrouding cells for cell lat 126\n",
      "Make surrouding cells for cell lat 127\n",
      "Make surrouding cells for cell lat 128\n",
      "Make surrouding cells for cell lat 129\n",
      "Make surrouding cells for cell lat 130\n",
      "Make surrouding cells for cell lat 131\n",
      "Make surrouding cells for cell lat 132\n",
      "Make surrouding cells for cell lat 133\n",
      "Make surrouding cells for cell lat 134\n",
      "Make surrouding cells for cell lat 135\n",
      "Make surrouding cells for cell lat 136\n",
      "Make surrouding cells for cell lat 137\n",
      "Make surrouding cells for cell lat 138\n",
      "Make surrouding cells for cell lat 139\n",
      "Make surrouding cells for cell lat 140\n",
      "Make surrouding cells for cell lat 141\n",
      "Make surrouding cells for cell lat 142\n",
      "Make surrouding cells for cell lat 143\n",
      "Make surrouding cells for cell lat 144\n",
      "Make surrouding cells for cell lat 145\n",
      "Make surrouding cells for cell lat 146\n",
      "Make surrouding cells for cell lat 147\n",
      "Make surrouding cells for cell lat 148\n",
      "Make surrouding cells for cell lat 149\n",
      "Make surrouding cells for cell lat 150\n",
      "Make surrouding cells for cell lat 151\n",
      "Make surrouding cells for cell lat 152\n",
      "Make surrouding cells for cell lat 153\n",
      "Make surrouding cells for cell lat 154\n",
      "Make surrouding cells for cell lat 155\n",
      "Make surrouding cells for cell lat 156\n",
      "Make surrouding cells for cell lat 157\n",
      "Make surrouding cells for cell lat 158\n",
      "Make surrouding cells for cell lat 159\n",
      "Make surrouding cells for cell lat 160\n",
      "Make surrouding cells for cell lat 161\n",
      "Make surrouding cells for cell lat 162\n",
      "Make surrouding cells for cell lat 163\n",
      "Make surrouding cells for cell lat 164\n",
      "Make surrouding cells for cell lat 165\n",
      "Make surrouding cells for cell lat 166\n",
      "Make surrouding cells for cell lat 167\n",
      "Make surrouding cells for cell lat 168\n",
      "Make surrouding cells for cell lat 169\n",
      "Make surrouding cells for cell lat 170\n",
      "Make surrouding cells for cell lat 171\n",
      "Make surrouding cells for cell lat 172\n",
      "Make surrouding cells for cell lat 173\n",
      "Make surrouding cells for cell lat 174\n",
      "Make surrouding cells for cell lat 175\n",
      "Make surrouding cells for cell lat 176\n",
      "Make surrouding cells for cell lat 177\n",
      "Make surrouding cells for cell lat 178\n",
      "Make surrouding cells for cell lat 179\n",
      "Make surrouding cells for cell lat 180\n",
      "Make surrouding cells for cell lat 181\n",
      "Make surrouding cells for cell lat 182\n",
      "Make surrouding cells for cell lat 183\n",
      "Make surrouding cells for cell lat 184\n",
      "Make surrouding cells for cell lat 185\n",
      "Make surrouding cells for cell lat 186\n",
      "Make surrouding cells for cell lat 187\n",
      "Make surrouding cells for cell lat 188\n",
      "Make surrouding cells for cell lat 189\n",
      "Make surrouding cells for cell lat 190\n",
      "Make surrouding cells for cell lat 191\n",
      "Make surrouding cells for cell lat 192\n",
      "Make surrouding cells for cell lat 193\n",
      "Make surrouding cells for cell lat 194\n",
      "Make surrouding cells for cell lat 195\n",
      "Make surrouding cells for cell lat 196\n",
      "Make surrouding cells for cell lat 197\n",
      "Make surrouding cells for cell lat 198\n",
      "Make surrouding cells for cell lat 199\n",
      "Make surrouding cells for cell lat 200\n",
      "Make surrouding cells for cell lat 201\n",
      "Make surrouding cells for cell lat 202\n",
      "Make surrouding cells for cell lat 203\n",
      "Make surrouding cells for cell lat 204\n",
      "Make surrouding cells for cell lat 205\n",
      "Make surrouding cells for cell lat 206\n",
      "Make surrouding cells for cell lat 207\n",
      "Make surrouding cells for cell lat 208\n",
      "Make surrouding cells for cell lat 209\n",
      "Make surrouding cells for cell lat 210\n",
      "Make surrouding cells for cell lat 211\n",
      "Make surrouding cells for cell lat 212\n",
      "Make surrouding cells for cell lat 213\n",
      "Make surrouding cells for cell lat 214\n",
      "Make surrouding cells for cell lat 215\n"
     ]
    },
    {
     "name": "stdout",
     "output_type": "stream",
     "text": [
      "Make surrouding cells for cell lat 216\n",
      "Make surrouding cells for cell lat 217\n",
      "Make surrouding cells for cell lat 218\n",
      "Make surrouding cells for cell lat 219\n",
      "Make surrouding cells for cell lat 220\n",
      "Make surrouding cells for cell lat 221\n",
      "Make surrouding cells for cell lat 222\n",
      "Make surrouding cells for cell lat 223\n",
      "Make surrouding cells for cell lat 224\n",
      "Make surrouding cells for cell lat 225\n",
      "Make surrouding cells for cell lat 226\n",
      "Make surrouding cells for cell lat 227\n",
      "Make surrouding cells for cell lat 228\n",
      "Make surrouding cells for cell lat 229\n",
      "Make surrouding cells for cell lat 230\n",
      "Make surrouding cells for cell lat 231\n",
      "Make surrouding cells for cell lat 232\n",
      "Make surrouding cells for cell lat 233\n",
      "Make surrouding cells for cell lat 234\n",
      "Make surrouding cells for cell lat 235\n",
      "Make surrouding cells for cell lat 236\n",
      "Make surrouding cells for cell lat 237\n",
      "Make surrouding cells for cell lat 238\n",
      "Make surrouding cells for cell lat 239\n",
      "Make surrouding cells for cell lat 240\n",
      "Make surrouding cells for cell lat 241\n",
      "Make surrouding cells for cell lat 242\n",
      "Make surrouding cells for cell lat 243\n",
      "Make surrouding cells for cell lat 244\n",
      "Make surrouding cells for cell lat 245\n",
      "Make surrouding cells for cell lat 246\n",
      "Make surrouding cells for cell lat 247\n",
      "Make surrouding cells for cell lat 248\n",
      "Make surrouding cells for cell lat 249\n",
      "Make surrouding cells for cell lat 250\n",
      "Make surrouding cells for cell lat 251\n",
      "Make surrouding cells for cell lat 252\n",
      "Make surrouding cells for cell lat 253\n"
     ]
    }
   ],
   "source": [
    "#create a file saving the indexes of surrounding emissions\n",
    "create_index_dict_for_surrouding_emis()"
   ]
  },
  {
   "cell_type": "code",
   "execution_count": 4,
   "metadata": {},
   "outputs": [
    {
     "name": "stdout",
     "output_type": "stream",
     "text": [
      "additional features: ['xlon', 'xlat', 'date', 'elev', 'hour', 'IC_FLASHCOUNT', 'CG_FLASHCOUNT']\n",
      "features: ['COSZEN', 'U', 'V', 'W', 'PBLH', 'E_NO', 'pres', 'temp', 'LAI', 'HGT', 'CLDFRA', 'SWDOWN', 'GLW', 'anthro_surr_emis_00', 'lightning_surr_emis_00', 'anthro_surr_emis_01', 'lightning_surr_emis_01', 'anthro_surr_emis_02', 'lightning_surr_emis_02', 'anthro_surr_emis_03', 'lightning_surr_emis_03', 'anthro_surr_emis_04', 'lightning_surr_emis_04', 'anthro_surr_emis_05', 'lightning_surr_emis_05', 'anthro_surr_emis_06', 'lightning_surr_emis_06', 'anthro_surr_emis_07', 'lightning_surr_emis_07', 'anthro_surr_emis_08', 'lightning_surr_emis_08', 'anthro_surr_emis_09', 'lightning_surr_emis_09', 'anthro_surr_emis_10', 'lightning_surr_emis_10', 'anthro_surr_emis_11', 'lightning_surr_emis_11', 'anthro_surr_emis_12', 'lightning_surr_emis_12', 'anthro_surr_emis_13', 'lightning_surr_emis_13', 'anthro_surr_emis_14', 'lightning_surr_emis_14', 'anthro_surr_emis_15', 'lightning_surr_emis_15', 'anthro_surr_emis_16', 'lightning_surr_emis_16', 'anthro_surr_emis_17', 'lightning_surr_emis_17', 'anthro_surr_emis_18', 'lightning_surr_emis_18', 'anthro_surr_emis_19', 'lightning_surr_emis_19', 'anthro_surr_emis_20', 'lightning_surr_emis_20', 'anthro_surr_emis_21', 'lightning_surr_emis_21', 'anthro_surr_emis_22', 'lightning_surr_emis_22', 'anthro_surr_emis_23', 'lightning_surr_emis_23', 'total_lightning']\n"
     ]
    }
   ],
   "source": [
    "print('additional features: {}'.format(additional_features))\n",
    "print('features: {}'.format(x_labels))"
   ]
  },
  {
   "cell_type": "code",
   "execution_count": 5,
   "metadata": {
    "scrolled": true
   },
   "outputs": [
    {
     "data": {
      "text/html": [
       "<table>\n",
       "<tr>\n",
       "<td>\n",
       "<table>\n",
       "  <thead>\n",
       "    <tr><td> </td><th> Array </th><th> Chunk </th></tr>\n",
       "  </thead>\n",
       "  <tbody>\n",
       "    <tr><th> Bytes </th><td> 186.06 MB </td> <td> 186.06 MB </td></tr>\n",
       "    <tr><th> Shape </th><td> (46516000,) </td> <td> (46516000,) </td></tr>\n",
       "    <tr><th> Count </th><td> 7 Tasks </td><td> 1 Chunks </td></tr>\n",
       "    <tr><th> Type </th><td> float32 </td><td> numpy.MaskedArray </td></tr>\n",
       "  </tbody>\n",
       "</table>\n",
       "</td>\n",
       "<td>\n",
       "<svg width=\"170\" height=\"75\" style=\"stroke:rgb(0,0,0);stroke-width:1\" >\n",
       "\n",
       "  <!-- Horizontal lines -->\n",
       "  <line x1=\"0\" y1=\"0\" x2=\"120\" y2=\"0\" style=\"stroke-width:2\" />\n",
       "  <line x1=\"0\" y1=\"25\" x2=\"120\" y2=\"25\" style=\"stroke-width:2\" />\n",
       "\n",
       "  <!-- Vertical lines -->\n",
       "  <line x1=\"0\" y1=\"0\" x2=\"0\" y2=\"25\" style=\"stroke-width:2\" />\n",
       "  <line x1=\"120\" y1=\"0\" x2=\"120\" y2=\"25\" style=\"stroke-width:2\" />\n",
       "\n",
       "  <!-- Colored Rectangle -->\n",
       "  <polygon points=\"0.0,0.0 120.0,0.0 120.0,25.412616514582485 0.0,25.412616514582485\" style=\"fill:#ECB172A0;stroke-width:0\"/>\n",
       "\n",
       "  <!-- Text -->\n",
       "  <text x=\"60.000000\" y=\"45.412617\" font-size=\"1.0rem\" font-weight=\"100\" text-anchor=\"middle\" >46516000</text>\n",
       "  <text x=\"140.000000\" y=\"12.706308\" font-size=\"1.0rem\" font-weight=\"100\" text-anchor=\"middle\" transform=\"rotate(0,140.000000,12.706308)\">1</text>\n",
       "</svg>\n",
       "</td>\n",
       "</tr>\n",
       "</table>"
      ],
      "text/plain": [
       "dask.array<reshape, shape=(46516000,), dtype=float32, chunksize=(46516000,), chunktype=numpy.MaskedArray>"
      ]
     },
     "execution_count": 5,
     "metadata": {},
     "output_type": "execute_result"
    }
   ],
   "source": [
    "x_total[0][0]"
   ]
  },
  {
   "cell_type": "code",
   "execution_count": 6,
   "metadata": {},
   "outputs": [],
   "source": [
    "client = Client()"
   ]
  },
  {
   "cell_type": "code",
   "execution_count": 7,
   "metadata": {},
   "outputs": [
    {
     "data": {
      "text/html": [
       "<table style=\"border: 2px solid white;\">\n",
       "<tr>\n",
       "<td style=\"vertical-align: top; border: 0px solid white\">\n",
       "<h3 style=\"text-align: left;\">Client</h3>\n",
       "<ul style=\"text-align: left; list-style: none; margin: 0; padding: 0;\">\n",
       "  <li><b>Scheduler: </b>tcp://127.0.0.1:61441</li>\n",
       "  <li><b>Dashboard: </b><a href='http://127.0.0.1:8787/status' target='_blank'>http://127.0.0.1:8787/status</a></li>\n",
       "</ul>\n",
       "</td>\n",
       "<td style=\"vertical-align: top; border: 0px solid white\">\n",
       "<h3 style=\"text-align: left;\">Cluster</h3>\n",
       "<ul style=\"text-align: left; list-style:none; margin: 0; padding: 0;\">\n",
       "  <li><b>Workers: </b>4</li>\n",
       "  <li><b>Cores: </b>8</li>\n",
       "  <li><b>Memory: </b>17.18 GB</li>\n",
       "</ul>\n",
       "</td>\n",
       "</tr>\n",
       "</table>"
      ],
      "text/plain": [
       "<Client: 'tcp://127.0.0.1:61441' processes=4 threads=8, memory=17.18 GB>"
      ]
     },
     "execution_count": 7,
     "metadata": {},
     "output_type": "execute_result"
    }
   ],
   "source": [
    "client"
   ]
  },
  {
   "cell_type": "code",
   "execution_count": null,
   "metadata": {},
   "outputs": [],
   "source": []
  },
  {
   "cell_type": "code",
   "execution_count": 11,
   "metadata": {},
   "outputs": [],
   "source": []
  },
  {
   "cell_type": "code",
   "execution_count": 12,
   "metadata": {
    "scrolled": true
   },
   "outputs": [
    {
     "name": "stderr",
     "output_type": "stream",
     "text": [
      "/global/home/users/qindan_zhu/PYTHON/SatelliteNO2/venv/lib/python3.6/site-packages/distributed/node.py:155: UserWarning: Port 8787 is already in use.\n",
      "Perhaps you already have a cluster running?\n",
      "Hosting the HTTP server on port 44606 instead\n",
      "  http_address[\"port\"], self.http_server.port\n"
     ]
    }
   ],
   "source": [
    "#save_arr = da.array(save_arr.T)\n",
    "client = get_slurm_dask_client(1, 1)"
   ]
  },
  {
   "cell_type": "code",
   "execution_count": 15,
   "metadata": {},
   "outputs": [
    {
     "data": {
      "text/html": [
       "<table style=\"border: 2px solid white;\">\n",
       "<tr>\n",
       "<td style=\"vertical-align: top; border: 0px solid white\">\n",
       "<h3 style=\"text-align: left;\">Client</h3>\n",
       "<ul style=\"text-align: left; list-style: none; margin: 0; padding: 0;\">\n",
       "  <li><b>Scheduler: </b>tcp://10.0.0.24:42736</li>\n",
       "  <li><b>Dashboard: </b><a href='http://10.0.0.24:44606/status' target='_blank'>http://10.0.0.24:44606/status</a></li>\n",
       "</ul>\n",
       "</td>\n",
       "<td style=\"vertical-align: top; border: 0px solid white\">\n",
       "<h3 style=\"text-align: left;\">Cluster</h3>\n",
       "<ul style=\"text-align: left; list-style:none; margin: 0; padding: 0;\">\n",
       "  <li><b>Workers: </b>1</li>\n",
       "  <li><b>Cores: </b>1</li>\n",
       "  <li><b>Memory: </b>32.00 GB</li>\n",
       "</ul>\n",
       "</td>\n",
       "</tr>\n",
       "</table>"
      ],
      "text/plain": [
       "<Client: 'tcp://10.0.0.24:42736' processes=1 threads=1, memory=32.00 GB>"
      ]
     },
     "execution_count": 15,
     "metadata": {},
     "output_type": "execute_result"
    }
   ],
   "source": [
    "client"
   ]
  },
  {
   "cell_type": "code",
   "execution_count": null,
   "metadata": {},
   "outputs": [],
   "source": [
    "#fit ml model\n",
    "starttime = time.time()\n",
    "output = xgb.dask.train(client,\n",
    "                        {'verbosity': 2,\n",
    "                         'tree_method': 'hist',\n",
    "                         'objective': 'reg:squarederror'\n",
    "                         },\n",
    "                        dtrain,\n",
    "                        num_boost_round=4, evals=[(dtrain, 'train')])\n",
    "print(\"--- {} minutes ---\".format((time.time() - starttime)/60))"
   ]
  },
  {
   "cell_type": "code",
   "execution_count": 34,
   "metadata": {},
   "outputs": [
    {
     "name": "stderr",
     "output_type": "stream",
     "text": [
      "/global/home/users/qindan_zhu/PYTHON/SatelliteNO2/venv/lib/python3.6/site-packages/distributed/node.py:155: UserWarning: Port 8787 is already in use.\n",
      "Perhaps you already have a cluster running?\n",
      "Hosting the HTTP server on port 36835 instead\n",
      "  http_address[\"port\"], self.http_server.port\n"
     ]
    }
   ],
   "source": [
    "cluster = SLURMCluster(cores=24, memory = '128 GB', project='co_aiolos',queue='savio2_bigmem',walltime='02:00:00')"
   ]
  },
  {
   "cell_type": "code",
   "execution_count": 35,
   "metadata": {},
   "outputs": [],
   "source": [
    "cluster.scale(1)"
   ]
  },
  {
   "cell_type": "code",
   "execution_count": 36,
   "metadata": {},
   "outputs": [],
   "source": [
    "client = Client(cluster)"
   ]
  },
  {
   "cell_type": "code",
   "execution_count": 38,
   "metadata": {},
   "outputs": [
    {
     "data": {
      "text/html": [
       "<table style=\"border: 2px solid white;\">\n",
       "<tr>\n",
       "<td style=\"vertical-align: top; border: 0px solid white\">\n",
       "<h3 style=\"text-align: left;\">Client</h3>\n",
       "<ul style=\"text-align: left; list-style: none; margin: 0; padding: 0;\">\n",
       "  <li><b>Scheduler: </b>tcp://10.0.0.24:43513</li>\n",
       "  <li><b>Dashboard: </b><a href='http://10.0.0.24:36835/status' target='_blank'>http://10.0.0.24:36835/status</a></li>\n",
       "</ul>\n",
       "</td>\n",
       "<td style=\"vertical-align: top; border: 0px solid white\">\n",
       "<h3 style=\"text-align: left;\">Cluster</h3>\n",
       "<ul style=\"text-align: left; list-style:none; margin: 0; padding: 0;\">\n",
       "  <li><b>Workers: </b>0</li>\n",
       "  <li><b>Cores: </b>0</li>\n",
       "  <li><b>Memory: </b>0 B</li>\n",
       "</ul>\n",
       "</td>\n",
       "</tr>\n",
       "</table>"
      ],
      "text/plain": [
       "<Client: 'tcp://10.0.0.24:43513' processes=0 threads=0, memory=0 B>"
      ]
     },
     "execution_count": 38,
     "metadata": {},
     "output_type": "execute_result"
    }
   ],
   "source": [
    "client"
   ]
  },
  {
   "cell_type": "code",
   "execution_count": null,
   "metadata": {},
   "outputs": [],
   "source": []
  }
 ],
 "metadata": {
  "kernelspec": {
   "display_name": "venv",
   "language": "python",
   "name": "venv"
  },
  "language_info": {
   "codemirror_mode": {
    "name": "ipython",
    "version": 3
   },
   "file_extension": ".py",
   "mimetype": "text/x-python",
   "name": "python",
   "nbconvert_exporter": "python",
   "pygments_lexer": "ipython3",
   "version": "3.6.8"
  }
 },
 "nbformat": 4,
 "nbformat_minor": 2
}
