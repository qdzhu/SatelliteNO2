{
 "cells": [
  {
   "cell_type": "code",
   "execution_count": 1,
   "metadata": {},
   "outputs": [],
   "source": [
    "from Train_test_days_split import *"
   ]
  },
  {
   "cell_type": "code",
   "execution_count": 5,
   "metadata": {},
   "outputs": [],
   "source": [
    "#create a file saving the index of target cells\n",
    "create_index_list_for_target_cells()"
   ]
  },
  {
   "cell_type": "code",
   "execution_count": 3,
   "metadata": {},
   "outputs": [
    {
     "name": "stdout",
     "output_type": "stream",
     "text": [
      "Make surrouding cells for cell lat 0\n",
      "Make surrouding cells for cell lat 1\n",
      "Make surrouding cells for cell lat 2\n",
      "Make surrouding cells for cell lat 3\n",
      "Make surrouding cells for cell lat 4\n",
      "Make surrouding cells for cell lat 5\n",
      "Make surrouding cells for cell lat 6\n",
      "Make surrouding cells for cell lat 7\n",
      "Make surrouding cells for cell lat 8\n",
      "Make surrouding cells for cell lat 9\n",
      "Make surrouding cells for cell lat 10\n",
      "Make surrouding cells for cell lat 11\n",
      "Make surrouding cells for cell lat 12\n",
      "Make surrouding cells for cell lat 13\n",
      "Make surrouding cells for cell lat 14\n",
      "Make surrouding cells for cell lat 15\n",
      "Make surrouding cells for cell lat 16\n",
      "Make surrouding cells for cell lat 17\n",
      "Make surrouding cells for cell lat 18\n",
      "Make surrouding cells for cell lat 19\n",
      "Make surrouding cells for cell lat 20\n",
      "Make surrouding cells for cell lat 21\n",
      "Make surrouding cells for cell lat 22\n",
      "Make surrouding cells for cell lat 23\n",
      "Make surrouding cells for cell lat 24\n",
      "Make surrouding cells for cell lat 25\n",
      "Make surrouding cells for cell lat 26\n",
      "Make surrouding cells for cell lat 27\n",
      "Make surrouding cells for cell lat 28\n",
      "Make surrouding cells for cell lat 29\n",
      "Make surrouding cells for cell lat 30\n",
      "Make surrouding cells for cell lat 31\n",
      "Make surrouding cells for cell lat 32\n",
      "Make surrouding cells for cell lat 33\n",
      "Make surrouding cells for cell lat 34\n",
      "Make surrouding cells for cell lat 35\n",
      "Make surrouding cells for cell lat 36\n",
      "Make surrouding cells for cell lat 37\n",
      "Make surrouding cells for cell lat 38\n",
      "Make surrouding cells for cell lat 39\n",
      "Make surrouding cells for cell lat 40\n",
      "Make surrouding cells for cell lat 41\n",
      "Make surrouding cells for cell lat 42\n",
      "Make surrouding cells for cell lat 43\n",
      "Make surrouding cells for cell lat 44\n",
      "Make surrouding cells for cell lat 45\n",
      "Make surrouding cells for cell lat 46\n",
      "Make surrouding cells for cell lat 47\n",
      "Make surrouding cells for cell lat 48\n",
      "Make surrouding cells for cell lat 49\n",
      "Make surrouding cells for cell lat 50\n",
      "Make surrouding cells for cell lat 51\n",
      "Make surrouding cells for cell lat 52\n",
      "Make surrouding cells for cell lat 53\n",
      "Make surrouding cells for cell lat 54\n",
      "Make surrouding cells for cell lat 55\n",
      "Make surrouding cells for cell lat 56\n",
      "Make surrouding cells for cell lat 57\n",
      "Make surrouding cells for cell lat 58\n",
      "Make surrouding cells for cell lat 59\n",
      "Make surrouding cells for cell lat 60\n",
      "Make surrouding cells for cell lat 61\n",
      "Make surrouding cells for cell lat 62\n",
      "Make surrouding cells for cell lat 63\n",
      "Make surrouding cells for cell lat 64\n",
      "Make surrouding cells for cell lat 65\n",
      "Make surrouding cells for cell lat 66\n",
      "Make surrouding cells for cell lat 67\n",
      "Make surrouding cells for cell lat 68\n",
      "Make surrouding cells for cell lat 69\n",
      "Make surrouding cells for cell lat 70\n",
      "Make surrouding cells for cell lat 71\n",
      "Make surrouding cells for cell lat 72\n",
      "Make surrouding cells for cell lat 73\n",
      "Make surrouding cells for cell lat 74\n",
      "Make surrouding cells for cell lat 75\n",
      "Make surrouding cells for cell lat 76\n",
      "Make surrouding cells for cell lat 77\n",
      "Make surrouding cells for cell lat 78\n",
      "Make surrouding cells for cell lat 79\n",
      "Make surrouding cells for cell lat 80\n",
      "Make surrouding cells for cell lat 81\n",
      "Make surrouding cells for cell lat 82\n",
      "Make surrouding cells for cell lat 83\n",
      "Make surrouding cells for cell lat 84\n",
      "Make surrouding cells for cell lat 85\n",
      "Make surrouding cells for cell lat 86\n",
      "Make surrouding cells for cell lat 87\n",
      "Make surrouding cells for cell lat 88\n",
      "Make surrouding cells for cell lat 89\n",
      "Make surrouding cells for cell lat 90\n",
      "Make surrouding cells for cell lat 91\n",
      "Make surrouding cells for cell lat 92\n",
      "Make surrouding cells for cell lat 93\n",
      "Make surrouding cells for cell lat 94\n",
      "Make surrouding cells for cell lat 95\n",
      "Make surrouding cells for cell lat 96\n",
      "Make surrouding cells for cell lat 97\n",
      "Make surrouding cells for cell lat 98\n",
      "Make surrouding cells for cell lat 99\n",
      "Make surrouding cells for cell lat 100\n",
      "Make surrouding cells for cell lat 101\n",
      "Make surrouding cells for cell lat 102\n",
      "Make surrouding cells for cell lat 103\n",
      "Make surrouding cells for cell lat 104\n",
      "Make surrouding cells for cell lat 105\n",
      "Make surrouding cells for cell lat 106\n",
      "Make surrouding cells for cell lat 107\n",
      "Make surrouding cells for cell lat 108\n",
      "Make surrouding cells for cell lat 109\n",
      "Make surrouding cells for cell lat 110\n",
      "Make surrouding cells for cell lat 111\n",
      "Make surrouding cells for cell lat 112\n",
      "Make surrouding cells for cell lat 113\n",
      "Make surrouding cells for cell lat 114\n",
      "Make surrouding cells for cell lat 115\n",
      "Make surrouding cells for cell lat 116\n",
      "Make surrouding cells for cell lat 117\n",
      "Make surrouding cells for cell lat 118\n",
      "Make surrouding cells for cell lat 119\n",
      "Make surrouding cells for cell lat 120\n",
      "Make surrouding cells for cell lat 121\n",
      "Make surrouding cells for cell lat 122\n",
      "Make surrouding cells for cell lat 123\n",
      "Make surrouding cells for cell lat 124\n",
      "Make surrouding cells for cell lat 125\n",
      "Make surrouding cells for cell lat 126\n",
      "Make surrouding cells for cell lat 127\n",
      "Make surrouding cells for cell lat 128\n",
      "Make surrouding cells for cell lat 129\n",
      "Make surrouding cells for cell lat 130\n",
      "Make surrouding cells for cell lat 131\n",
      "Make surrouding cells for cell lat 132\n",
      "Make surrouding cells for cell lat 133\n",
      "Make surrouding cells for cell lat 134\n",
      "Make surrouding cells for cell lat 135\n",
      "Make surrouding cells for cell lat 136\n",
      "Make surrouding cells for cell lat 137\n",
      "Make surrouding cells for cell lat 138\n",
      "Make surrouding cells for cell lat 139\n",
      "Make surrouding cells for cell lat 140\n",
      "Make surrouding cells for cell lat 141\n",
      "Make surrouding cells for cell lat 142\n",
      "Make surrouding cells for cell lat 143\n",
      "Make surrouding cells for cell lat 144\n",
      "Make surrouding cells for cell lat 145\n",
      "Make surrouding cells for cell lat 146\n",
      "Make surrouding cells for cell lat 147\n",
      "Make surrouding cells for cell lat 148\n",
      "Make surrouding cells for cell lat 149\n",
      "Make surrouding cells for cell lat 150\n",
      "Make surrouding cells for cell lat 151\n",
      "Make surrouding cells for cell lat 152\n",
      "Make surrouding cells for cell lat 153\n",
      "Make surrouding cells for cell lat 154\n",
      "Make surrouding cells for cell lat 155\n",
      "Make surrouding cells for cell lat 156\n",
      "Make surrouding cells for cell lat 157\n",
      "Make surrouding cells for cell lat 158\n",
      "Make surrouding cells for cell lat 159\n",
      "Make surrouding cells for cell lat 160\n",
      "Make surrouding cells for cell lat 161\n",
      "Make surrouding cells for cell lat 162\n",
      "Make surrouding cells for cell lat 163\n",
      "Make surrouding cells for cell lat 164\n",
      "Make surrouding cells for cell lat 165\n",
      "Make surrouding cells for cell lat 166\n",
      "Make surrouding cells for cell lat 167\n",
      "Make surrouding cells for cell lat 168\n",
      "Make surrouding cells for cell lat 169\n",
      "Make surrouding cells for cell lat 170\n",
      "Make surrouding cells for cell lat 171\n",
      "Make surrouding cells for cell lat 172\n",
      "Make surrouding cells for cell lat 173\n",
      "Make surrouding cells for cell lat 174\n",
      "Make surrouding cells for cell lat 175\n",
      "Make surrouding cells for cell lat 176\n",
      "Make surrouding cells for cell lat 177\n",
      "Make surrouding cells for cell lat 178\n",
      "Make surrouding cells for cell lat 179\n",
      "Make surrouding cells for cell lat 180\n",
      "Make surrouding cells for cell lat 181\n",
      "Make surrouding cells for cell lat 182\n",
      "Make surrouding cells for cell lat 183\n",
      "Make surrouding cells for cell lat 184\n",
      "Make surrouding cells for cell lat 185\n",
      "Make surrouding cells for cell lat 186\n",
      "Make surrouding cells for cell lat 187\n",
      "Make surrouding cells for cell lat 188\n",
      "Make surrouding cells for cell lat 189\n",
      "Make surrouding cells for cell lat 190\n",
      "Make surrouding cells for cell lat 191\n",
      "Make surrouding cells for cell lat 192\n",
      "Make surrouding cells for cell lat 193\n",
      "Make surrouding cells for cell lat 194\n",
      "Make surrouding cells for cell lat 195\n",
      "Make surrouding cells for cell lat 196\n",
      "Make surrouding cells for cell lat 197\n",
      "Make surrouding cells for cell lat 198\n",
      "Make surrouding cells for cell lat 199\n",
      "Make surrouding cells for cell lat 200\n",
      "Make surrouding cells for cell lat 201\n",
      "Make surrouding cells for cell lat 202\n",
      "Make surrouding cells for cell lat 203\n",
      "Make surrouding cells for cell lat 204\n",
      "Make surrouding cells for cell lat 205\n",
      "Make surrouding cells for cell lat 206\n",
      "Make surrouding cells for cell lat 207\n",
      "Make surrouding cells for cell lat 208\n",
      "Make surrouding cells for cell lat 209\n",
      "Make surrouding cells for cell lat 210\n",
      "Make surrouding cells for cell lat 211\n",
      "Make surrouding cells for cell lat 212\n",
      "Make surrouding cells for cell lat 213\n",
      "Make surrouding cells for cell lat 214\n",
      "Make surrouding cells for cell lat 215\n"
     ]
    },
    {
     "name": "stdout",
     "output_type": "stream",
     "text": [
      "Make surrouding cells for cell lat 216\n",
      "Make surrouding cells for cell lat 217\n",
      "Make surrouding cells for cell lat 218\n",
      "Make surrouding cells for cell lat 219\n",
      "Make surrouding cells for cell lat 220\n",
      "Make surrouding cells for cell lat 221\n",
      "Make surrouding cells for cell lat 222\n",
      "Make surrouding cells for cell lat 223\n",
      "Make surrouding cells for cell lat 224\n",
      "Make surrouding cells for cell lat 225\n",
      "Make surrouding cells for cell lat 226\n",
      "Make surrouding cells for cell lat 227\n",
      "Make surrouding cells for cell lat 228\n",
      "Make surrouding cells for cell lat 229\n",
      "Make surrouding cells for cell lat 230\n",
      "Make surrouding cells for cell lat 231\n",
      "Make surrouding cells for cell lat 232\n",
      "Make surrouding cells for cell lat 233\n",
      "Make surrouding cells for cell lat 234\n",
      "Make surrouding cells for cell lat 235\n",
      "Make surrouding cells for cell lat 236\n",
      "Make surrouding cells for cell lat 237\n",
      "Make surrouding cells for cell lat 238\n",
      "Make surrouding cells for cell lat 239\n",
      "Make surrouding cells for cell lat 240\n",
      "Make surrouding cells for cell lat 241\n",
      "Make surrouding cells for cell lat 242\n",
      "Make surrouding cells for cell lat 243\n",
      "Make surrouding cells for cell lat 244\n",
      "Make surrouding cells for cell lat 245\n",
      "Make surrouding cells for cell lat 246\n",
      "Make surrouding cells for cell lat 247\n",
      "Make surrouding cells for cell lat 248\n",
      "Make surrouding cells for cell lat 249\n",
      "Make surrouding cells for cell lat 250\n",
      "Make surrouding cells for cell lat 251\n",
      "Make surrouding cells for cell lat 252\n",
      "Make surrouding cells for cell lat 253\n"
     ]
    }
   ],
   "source": [
    "#create a file saving the indexes of surrounding emissions\n",
    "create_index_dict_for_surrouding_emis()"
   ]
  },
  {
   "cell_type": "code",
   "execution_count": 2,
   "metadata": {
    "scrolled": true
   },
   "outputs": [
    {
     "name": "stdout",
     "output_type": "stream",
     "text": [
      "Reading in data from /global/home/users/qindan_zhu/myscratch/jlgrant/ML-WRF/ML-WRF/met_conus_2005_011\n",
      "Reading in data from /global/home/users/qindan_zhu/myscratch/jlgrant/ML-WRF/ML-WRF/met_conus_2005_017\n",
      "Reading in data from /global/home/users/qindan_zhu/myscratch/jlgrant/ML-WRF/ML-WRF/met_conus_2005_012\n",
      "Reading in data from /global/home/users/qindan_zhu/myscratch/jlgrant/ML-WRF/ML-WRF/met_conus_2005_019\n",
      "Reading in data from /global/home/users/qindan_zhu/myscratch/jlgrant/ML-WRF/ML-WRF/met_conus_2005_008\n",
      "Reading in data from /global/home/users/qindan_zhu/myscratch/jlgrant/ML-WRF/ML-WRF/met_conus_2005_016\n",
      "Reading in data from /global/home/users/qindan_zhu/myscratch/jlgrant/ML-WRF/ML-WRF/met_conus_2005_013\n",
      "Reading in data from /global/home/users/qindan_zhu/myscratch/jlgrant/ML-WRF/ML-WRF/met_conus_2005_006\n",
      "Reading in data from /global/home/users/qindan_zhu/myscratch/jlgrant/ML-WRF/ML-WRF/met_conus_2005_001\n",
      "Reading in data from /global/home/users/qindan_zhu/myscratch/jlgrant/ML-WRF/ML-WRF/met_conus_2005_002\n",
      "Reading in data from /global/home/users/qindan_zhu/myscratch/jlgrant/ML-WRF/ML-WRF/met_conus_2005_018\n",
      "Reading in data from /global/home/users/qindan_zhu/myscratch/jlgrant/ML-WRF/ML-WRF/met_conus_2005_004\n",
      "Reading in data from /global/home/users/qindan_zhu/myscratch/jlgrant/ML-WRF/ML-WRF/met_conus_2005_003\n",
      "Reading in data from /global/home/users/qindan_zhu/myscratch/jlgrant/ML-WRF/ML-WRF/met_conus_2005_014\n",
      "Reading in data from /global/home/users/qindan_zhu/myscratch/jlgrant/ML-WRF/ML-WRF/met_conus_2005_015\n",
      "Reading in data from /global/home/users/qindan_zhu/myscratch/jlgrant/ML-WRF/ML-WRF/met_conus_2005_009\n",
      "Reading in data from /global/home/users/qindan_zhu/myscratch/jlgrant/ML-WRF/ML-WRF/met_conus_2005_007\n",
      "Reading in data from /global/home/users/qindan_zhu/myscratch/jlgrant/ML-WRF/ML-WRF/met_conus_2005_010\n",
      "Reading in data from /global/home/users/qindan_zhu/myscratch/jlgrant/ML-WRF/ML-WRF/met_conus_2005_005\n",
      "Reading in data from /global/home/users/qindan_zhu/myscratch/jlgrant/ML-WRF/ML-WRF/met_conus_2005_020\n",
      "--- 0.7073356151580811 minutes ---\n"
     ]
    }
   ],
   "source": [
    "#to do: surrounding lightning and vertical distribution of lightnings haven't been implemented yet\n",
    "import time\n",
    "orig_filenames = sorted(glob(os.path.join(orig_file_path, 'met_conus*')))\n",
    "orig_filenames = orig_filenames[0:20]\n",
    "train_filenames, test_filenames = train_test_filename(orig_filenames)\n",
    "x_total = []\n",
    "y_total = []\n",
    "add_total= []\n",
    "starttime = time.time()\n",
    "for train_filename in train_filenames:\n",
    "    print('Reading in data from {}'.format(train_filename))\n",
    "    additional_arr, x_arr, y_arr, x_labels, additional_features = read_orig_file_from_wrf(train_filename)\n",
    "    add_total.append(additional_arr)\n",
    "    x_total.append(x_arr)\n",
    "    y_total.append(y_arr)\n",
    "print(\"--- {} minutes ---\".format((time.time() - starttime)/60))"
   ]
  },
  {
   "cell_type": "code",
   "execution_count": 3,
   "metadata": {},
   "outputs": [
    {
     "name": "stdout",
     "output_type": "stream",
     "text": [
      "additional features: ['xlon', 'xlat', 'date', 'elev', 'hour']\n",
      "features: ['COSZEN', 'IC_FLASHCOUNT', 'CG_FLASHCOUNT', 'U', 'V', 'W', 'PBLH', 'E_NO', 'pres', 'temp', 'LAI', 'HGT', 'CLDFRA', 'SWDOWN', 'GLW', 'surr_emis_00', 'surr_emis_01', 'surr_emis_02', 'surr_emis_03', 'surr_emis_04', 'surr_emis_05', 'surr_emis_06', 'surr_emis_07', 'surr_emis_08', 'surr_emis_09', 'surr_emis_10', 'surr_emis_11', 'surr_emis_12', 'surr_emis_13', 'surr_emis_14', 'surr_emis_15', 'surr_emis_16', 'surr_emis_17', 'surr_emis_18', 'surr_emis_19', 'surr_emis_20', 'surr_emis_21', 'surr_emis_22', 'surr_emis_23']\n"
     ]
    }
   ],
   "source": [
    "print('additional features: {}'.format(additional_features))\n",
    "print('features: {}'.format(x_labels))"
   ]
  },
  {
   "cell_type": "code",
   "execution_count": 4,
   "metadata": {
    "scrolled": true
   },
   "outputs": [
    {
     "data": {
      "text/html": [
       "<table>\n",
       "<tr>\n",
       "<td>\n",
       "<table>\n",
       "  <thead>\n",
       "    <tr><td> </td><th> Array </th><th> Chunk </th></tr>\n",
       "  </thead>\n",
       "  <tbody>\n",
       "    <tr><th> Bytes </th><td> 372.13 MB </td> <td> 372.13 MB </td></tr>\n",
       "    <tr><th> Shape </th><td> (46516000,) </td> <td> (46516000,) </td></tr>\n",
       "    <tr><th> Count </th><td> 6 Tasks </td><td> 1 Chunks </td></tr>\n",
       "    <tr><th> Type </th><td> float64 </td><td> numpy.MaskedArray </td></tr>\n",
       "  </tbody>\n",
       "</table>\n",
       "</td>\n",
       "<td>\n",
       "<svg width=\"170\" height=\"75\" style=\"stroke:rgb(0,0,0);stroke-width:1\" >\n",
       "\n",
       "  <!-- Horizontal lines -->\n",
       "  <line x1=\"0\" y1=\"0\" x2=\"120\" y2=\"0\" style=\"stroke-width:2\" />\n",
       "  <line x1=\"0\" y1=\"25\" x2=\"120\" y2=\"25\" style=\"stroke-width:2\" />\n",
       "\n",
       "  <!-- Vertical lines -->\n",
       "  <line x1=\"0\" y1=\"0\" x2=\"0\" y2=\"25\" style=\"stroke-width:2\" />\n",
       "  <line x1=\"120\" y1=\"0\" x2=\"120\" y2=\"25\" style=\"stroke-width:2\" />\n",
       "\n",
       "  <!-- Colored Rectangle -->\n",
       "  <polygon points=\"0.0,0.0 120.0,0.0 120.0,25.412616514582485 0.0,25.412616514582485\" style=\"fill:#ECB172A0;stroke-width:0\"/>\n",
       "\n",
       "  <!-- Text -->\n",
       "  <text x=\"60.000000\" y=\"45.412617\" font-size=\"1.0rem\" font-weight=\"100\" text-anchor=\"middle\" >46516000</text>\n",
       "  <text x=\"140.000000\" y=\"12.706308\" font-size=\"1.0rem\" font-weight=\"100\" text-anchor=\"middle\" transform=\"rotate(0,140.000000,12.706308)\">1</text>\n",
       "</svg>\n",
       "</td>\n",
       "</tr>\n",
       "</table>"
      ],
      "text/plain": [
       "dask.array<reshape, shape=(46516000,), dtype=float64, chunksize=(46516000,), chunktype=numpy.MaskedArray>"
      ]
     },
     "execution_count": 4,
     "metadata": {},
     "output_type": "execute_result"
    }
   ],
   "source": [
    "x_total[0][0]"
   ]
  },
  {
   "cell_type": "code",
   "execution_count": 11,
   "metadata": {},
   "outputs": [],
   "source": [
    "from dask.distributed import Client\n",
    "from dask_jobqueue import SLURMCluster\n",
    "def get_slurm_dask_client(n_workers, n_cores):\n",
    "    cluster = SLURMCluster(cores=n_cores,\n",
    "                           memory='32GB',\n",
    "                           project=\"co_aiolos\",\n",
    "                           walltime=\"02:00:00\",\n",
    "                           queue=\"savio2_gpu\",\n",
    "                           job_extra=['--gres=gpu:1','--cpus-per-task=2'])\n",
    "\n",
    "    cluster.scale(n_workers)\n",
    "    client = Client(cluster)\n",
    "    return client"
   ]
  },
  {
   "cell_type": "code",
   "execution_count": 12,
   "metadata": {
    "scrolled": true
   },
   "outputs": [
    {
     "name": "stderr",
     "output_type": "stream",
     "text": [
      "/global/home/users/qindan_zhu/PYTHON/SatelliteNO2/venv/lib/python3.6/site-packages/distributed/node.py:155: UserWarning: Port 8787 is already in use.\n",
      "Perhaps you already have a cluster running?\n",
      "Hosting the HTTP server on port 44606 instead\n",
      "  http_address[\"port\"], self.http_server.port\n"
     ]
    }
   ],
   "source": [
    "#save_arr = da.array(save_arr.T)\n",
    "client = get_slurm_dask_client(1, 1)"
   ]
  },
  {
   "cell_type": "code",
   "execution_count": 15,
   "metadata": {},
   "outputs": [
    {
     "data": {
      "text/html": [
       "<table style=\"border: 2px solid white;\">\n",
       "<tr>\n",
       "<td style=\"vertical-align: top; border: 0px solid white\">\n",
       "<h3 style=\"text-align: left;\">Client</h3>\n",
       "<ul style=\"text-align: left; list-style: none; margin: 0; padding: 0;\">\n",
       "  <li><b>Scheduler: </b>tcp://10.0.0.24:42736</li>\n",
       "  <li><b>Dashboard: </b><a href='http://10.0.0.24:44606/status' target='_blank'>http://10.0.0.24:44606/status</a></li>\n",
       "</ul>\n",
       "</td>\n",
       "<td style=\"vertical-align: top; border: 0px solid white\">\n",
       "<h3 style=\"text-align: left;\">Cluster</h3>\n",
       "<ul style=\"text-align: left; list-style:none; margin: 0; padding: 0;\">\n",
       "  <li><b>Workers: </b>1</li>\n",
       "  <li><b>Cores: </b>1</li>\n",
       "  <li><b>Memory: </b>32.00 GB</li>\n",
       "</ul>\n",
       "</td>\n",
       "</tr>\n",
       "</table>"
      ],
      "text/plain": [
       "<Client: 'tcp://10.0.0.24:42736' processes=1 threads=1, memory=32.00 GB>"
      ]
     },
     "execution_count": 15,
     "metadata": {},
     "output_type": "execute_result"
    }
   ],
   "source": [
    "client"
   ]
  },
  {
   "cell_type": "code",
   "execution_count": null,
   "metadata": {},
   "outputs": [
    {
     "name": "stderr",
     "output_type": "stream",
     "text": [
      "distributed.scheduler - ERROR - Couldn't gather keys {\"('reshape-79d9f0f3fe1d7fc2b8b816e7e9e2845b', 4)\": ['tcp://10.0.5.223:33015'], \"('reshape-79d9f0f3fe1d7fc2b8b816e7e9e2845b', 0)\": ['tcp://10.0.5.223:33015'], \"('reshape-79d9f0f3fe1d7fc2b8b816e7e9e2845b', 1)\": ['tcp://10.0.5.223:33015'], \"('reshape-79d9f0f3fe1d7fc2b8b816e7e9e2845b', 3)\": ['tcp://10.0.5.223:33015'], \"('reshape-79d9f0f3fe1d7fc2b8b816e7e9e2845b', 2)\": ['tcp://10.0.5.223:33015']} state: ['waiting', 'waiting', 'waiting', 'waiting', 'waiting'] workers: ['tcp://10.0.5.223:33015']\n",
      "NoneType: None\n",
      "distributed.scheduler - ERROR - Workers don't have promised key: ['tcp://10.0.5.223:33015'], ('reshape-79d9f0f3fe1d7fc2b8b816e7e9e2845b', 4)\n",
      "NoneType: None\n",
      "distributed.scheduler - ERROR - Workers don't have promised key: ['tcp://10.0.5.223:33015'], ('reshape-79d9f0f3fe1d7fc2b8b816e7e9e2845b', 0)\n",
      "NoneType: None\n",
      "distributed.scheduler - ERROR - Workers don't have promised key: ['tcp://10.0.5.223:33015'], ('reshape-79d9f0f3fe1d7fc2b8b816e7e9e2845b', 1)\n",
      "NoneType: None\n",
      "distributed.scheduler - ERROR - Workers don't have promised key: ['tcp://10.0.5.223:33015'], ('reshape-79d9f0f3fe1d7fc2b8b816e7e9e2845b', 3)\n",
      "NoneType: None\n",
      "distributed.scheduler - ERROR - Workers don't have promised key: ['tcp://10.0.5.223:33015'], ('reshape-79d9f0f3fe1d7fc2b8b816e7e9e2845b', 2)\n",
      "NoneType: None\n"
     ]
    }
   ],
   "source": [
    "#prepare matrix for ml\n",
    "import xgboost as xgb\n",
    "starttime = time.time()\n",
    "dtrain = xgb.dask.DaskDMatrix(client, da.array(x_total), da.array(y_total))\n",
    "print(\"--- {} minutes ---\".format((time.time() - starttime)/60))"
   ]
  },
  {
   "cell_type": "code",
   "execution_count": null,
   "metadata": {},
   "outputs": [],
   "source": [
    "#fit ml model\n",
    "starttime = time.time()\n",
    "output = xgb.dask.train(client,\n",
    "                        {'verbosity': 2,\n",
    "                         'tree_method': 'hist',\n",
    "                         'objective': 'reg:squarederror'\n",
    "                         },\n",
    "                        dtrain,\n",
    "                        num_boost_round=4, evals=[(dtrain, 'train')])\n",
    "print(\"--- {} minutes ---\".format((time.time() - starttime)/60))"
   ]
  },
  {
   "cell_type": "code",
   "execution_count": 34,
   "metadata": {},
   "outputs": [
    {
     "name": "stderr",
     "output_type": "stream",
     "text": [
      "/global/home/users/qindan_zhu/PYTHON/SatelliteNO2/venv/lib/python3.6/site-packages/distributed/node.py:155: UserWarning: Port 8787 is already in use.\n",
      "Perhaps you already have a cluster running?\n",
      "Hosting the HTTP server on port 36835 instead\n",
      "  http_address[\"port\"], self.http_server.port\n"
     ]
    }
   ],
   "source": [
    "cluster = SLURMCluster(cores=24, memory = '128 GB', project='co_aiolos',queue='savio2_bigmem',walltime='02:00:00')"
   ]
  },
  {
   "cell_type": "code",
   "execution_count": 35,
   "metadata": {},
   "outputs": [],
   "source": [
    "cluster.scale(1)"
   ]
  },
  {
   "cell_type": "code",
   "execution_count": 36,
   "metadata": {},
   "outputs": [],
   "source": [
    "client = Client(cluster)"
   ]
  },
  {
   "cell_type": "code",
   "execution_count": 38,
   "metadata": {},
   "outputs": [
    {
     "data": {
      "text/html": [
       "<table style=\"border: 2px solid white;\">\n",
       "<tr>\n",
       "<td style=\"vertical-align: top; border: 0px solid white\">\n",
       "<h3 style=\"text-align: left;\">Client</h3>\n",
       "<ul style=\"text-align: left; list-style: none; margin: 0; padding: 0;\">\n",
       "  <li><b>Scheduler: </b>tcp://10.0.0.24:43513</li>\n",
       "  <li><b>Dashboard: </b><a href='http://10.0.0.24:36835/status' target='_blank'>http://10.0.0.24:36835/status</a></li>\n",
       "</ul>\n",
       "</td>\n",
       "<td style=\"vertical-align: top; border: 0px solid white\">\n",
       "<h3 style=\"text-align: left;\">Cluster</h3>\n",
       "<ul style=\"text-align: left; list-style:none; margin: 0; padding: 0;\">\n",
       "  <li><b>Workers: </b>0</li>\n",
       "  <li><b>Cores: </b>0</li>\n",
       "  <li><b>Memory: </b>0 B</li>\n",
       "</ul>\n",
       "</td>\n",
       "</tr>\n",
       "</table>"
      ],
      "text/plain": [
       "<Client: 'tcp://10.0.0.24:43513' processes=0 threads=0, memory=0 B>"
      ]
     },
     "execution_count": 38,
     "metadata": {},
     "output_type": "execute_result"
    }
   ],
   "source": [
    "client"
   ]
  },
  {
   "cell_type": "code",
   "execution_count": null,
   "metadata": {},
   "outputs": [],
   "source": []
  }
 ],
 "metadata": {
  "kernelspec": {
   "display_name": "venv",
   "language": "python",
   "name": "venv"
  },
  "language_info": {
   "codemirror_mode": {
    "name": "ipython",
    "version": 3
   },
   "file_extension": ".py",
   "mimetype": "text/x-python",
   "name": "python",
   "nbconvert_exporter": "python",
   "pygments_lexer": "ipython3",
   "version": "3.6.8"
  }
 },
 "nbformat": 4,
 "nbformat_minor": 2
}
